{
 "cells": [
  {
   "cell_type": "code",
   "execution_count": 1,
   "metadata": {},
   "outputs": [],
   "source": [
    "import matplotlib.pyplot as plt\n",
    "\n",
    "import pandas as pd\n",
    "import os, glob\n",
    "import torch\n",
    "\n",
    "from models.main import build_network\n",
    "from preprocess import get_data"
   ]
  },
  {
   "cell_type": "code",
   "execution_count": 2,
   "metadata": {},
   "outputs": [],
   "source": [
    "class Args:\n",
    "    model='ae'\n",
    "    r='./experiments'\n",
    "    lr=1e-3\n",
    "    z_dim=32\n",
    "    in_dim=152\n",
    "    data_pth='../data'\n",
    "    batch_size=128\n",
    "    outlier='none'\n",
    "    hierClass='Transient'\n",
    "    fold=0\n",
    "\n",
    "args = Args()\n",
    "if args.outlier!='none':\n",
    "    job_name = '{}_{}_{}_lr{}_ld{}_fold{}'.format(args.model, args.hierClass, args.outlier, \n",
    "                                                  args.lr, args.z_dim, args.fold)\n",
    "else:\n",
    "    job_name = '{}_{}_lr{}_ld{}_fold{}'.format(args.model, args.hierClass, args.lr, \n",
    "                                               args.z_dim, args.fold)\n",
    "args.directory = os.path.join(args.r, job_name)"
   ]
  },
  {
   "cell_type": "markdown",
   "metadata": {},
   "source": [
    "### Learning curves"
   ]
  },
  {
   "cell_type": "code",
   "execution_count": null,
   "metadata": {},
   "outputs": [],
   "source": [
    "from utils.plots import plot_event\n",
    "\n",
    "event_pth = 'event*'\n",
    "event = glob.glob(os.path.join(args.directory, event_pth))\n",
    "plot_event(event)"
   ]
  },
  {
   "cell_type": "markdown",
   "metadata": {},
   "source": [
    "### Analyzing latent space."
   ]
  },
  {
   "cell_type": "code",
   "execution_count": null,
   "metadata": {},
   "outputs": [],
   "source": [
    "# train, val, test\n",
    "_, _, dataloader = get_data(args)"
   ]
  },
  {
   "cell_type": "code",
   "execution_count": null,
   "metadata": {},
   "outputs": [],
   "source": [
    "model_pth = os.path.join(args.directory, 'trained_parameters.pth')\n",
    "state_dict = torch.load(model_pth)\n",
    "model = build_network(args)\n",
    "model.load_state_dict(state_dict)"
   ]
  },
  {
   "cell_type": "code",
   "execution_count": null,
   "metadata": {},
   "outputs": [],
   "source": [
    "zs = []\n",
    "xrec = []\n",
    "xreal = []\n",
    "lbls_out = []\n",
    "lbls_class = []\n",
    "for _, x, lbl_class, lbl_out in dataloader:\n",
    "    with torch.no_grad():\n",
    "        model.eval()\n",
    "        x = x.float()\n",
    "\n",
    "        z, x_hat = model(x)\n",
    "        zs.append(z)\n",
    "        xrec.append(x_hat)\n",
    "        xreal.append(x)\n",
    "        lbls_out.append(lbl_out)\n",
    "        lbls_class.append(lbl_class)\n",
    "zs = torch.cat(zs).numpy()\n",
    "xrec = torch.cat(xrec).numpy()\n",
    "xreal = torch.cat(xreal).numpy()\n",
    "lbls_out = torch.cat(lbls_out).numpy()\n",
    "lbls_class = torch.cat(lbls_class).numpy()"
   ]
  },
  {
   "cell_type": "code",
   "execution_count": null,
   "metadata": {},
   "outputs": [],
   "source": [
    "from sklearn.manifold import TSNE\n",
    "import numpy as np \n",
    "\n",
    "x_embedded = TSNE(n_components=2).fit_transform(zs)"
   ]
  },
  {
   "cell_type": "code",
   "execution_count": null,
   "metadata": {},
   "outputs": [],
   "source": [
    "dict_classes = {0: 'Inlier',\n",
    "                1: 'Misspred',\n",
    "                2: 'Outlier',\n",
    "    \n",
    "}\n",
    "\n",
    "plt.figure(figsize=(8,8))\n",
    "plt.title('TSNE for train points (AE)')\n",
    "for key in range(len(np.unique(lbls_out))):\n",
    "    plt.scatter(x_embedded[:, 0][lbls_out==key], x_embedded[:, 1][lbls_out==key], \n",
    "                s=20, alpha=1, marker='.', label=dict_classes[key])\n",
    "plt.legend(fontsize=15)\n",
    "plt.grid(True)"
   ]
  },
  {
   "cell_type": "markdown",
   "metadata": {},
   "source": [
    "## Analyzing reconstructions."
   ]
  },
  {
   "cell_type": "code",
   "execution_count": null,
   "metadata": {},
   "outputs": [],
   "source": [
    "feature_list_pth='../data_raw/features_RF_model.pkl'\n",
    "feature_list = pd.read_pickle(feature_list_pth)\n",
    "feature_list\n",
    "\n",
    "# Some important features\n",
    "important_features = [\n",
    "'W1-W2',\n",
    "'sgscore1',\n",
    "'positive_fraction_2',\n",
    "'positive_fraction_1',\n",
    "'SPM_tau_rise_1',\n",
    "'LinearTrend_2', \n",
    "'SPM_chi_1', \n",
    "'g-W2', \n",
    "'g-W3', \n",
    "'n_non_det_after_fid_2',\n",
    "'W2-W3',\n",
    "'SPM_beta_1',\n",
    "'SPM_tau_rise_2',\n",
    "'SPM_A_2',\n",
    "'IAR_phi_1',\n",
    "'IAR_phi_2',\n",
    "]"
   ]
  },
  {
   "cell_type": "code",
   "execution_count": null,
   "metadata": {},
   "outputs": [],
   "source": [
    "def update(handle, orig):\n",
    "    handle.update_from(orig)\n",
    "    handle.set_alpha(1)"
   ]
  },
  {
   "cell_type": "code",
   "execution_count": null,
   "metadata": {},
   "outputs": [],
   "source": [
    "from matplotlib.collections import PathCollection\n",
    "from matplotlib.legend_handler import HandlerPathCollection, HandlerLine2D\n",
    "\n",
    "f, ax = plt.subplots(nrows=4, ncols=4, figsize=(16,16), sharey=True, sharex=True)\n",
    "\n",
    "colors = {0: ('b', 'o'), #inlier\n",
    "          1: ('g', 'X'), #misspred\n",
    "          2: ('red', '*'), #outlier\n",
    "}\n",
    "\n",
    "ident = [0.0, 1.0]\n",
    "for i, feature in enumerate(important_features):\n",
    "    ix = important_features.index(feature)\n",
    "    ax[i//4, i%4].set_title(feature)\n",
    "    for key in range(len(np.unique(lbls_out))):\n",
    "        ax[i//4, i%4].scatter(xreal[:,ix][lbls_out==key], xrec[:,ix][lbls_out==key], \n",
    "                              label=dict_classes[key], s=20, alpha=0.25, c=colors[key][0],\n",
    "                              marker=colors[key][1])\n",
    "    ax[i//4, i%4].plot(ident, ident, c='r')\n",
    "    ax[i//4, i%4].set_xlabel('real')\n",
    "    ax[i//4, i%4].set_ylabel('pred')\n",
    "    ax[i//4, i%4].grid()\n",
    "    ax[i//4, i%4].legend(loc='best', handler_map={PathCollection : HandlerPathCollection(update_func= update),\n",
    "                         plt.Line2D : HandlerLine2D(update_func = update)})\n",
    "plt.show()"
   ]
  },
  {
   "cell_type": "markdown",
   "metadata": {},
   "source": [
    "### Analizing scores"
   ]
  },
  {
   "cell_type": "code",
   "execution_count": null,
   "metadata": {},
   "outputs": [],
   "source": [
    "scores = np.sum((xrec - xreal)**2, axis=1)\n",
    "\n",
    "plt.figure(figsize=(8,4))\n",
    "plt.title('Histogram')\n",
    "for key in range(len(np.unique(lbls_out))):\n",
    "    plt.hist(scores[lbls_out==key], label=dict_classes[key], bins=25, \n",
    "             density=True, histtype='step', color=colors[key][0])\n",
    "plt.legend(fontsize=15)"
   ]
  },
  {
   "cell_type": "markdown",
   "metadata": {},
   "source": [
    "### Report metrics"
   ]
  },
  {
   "cell_type": "code",
   "execution_count": null,
   "metadata": {},
   "outputs": [],
   "source": [
    "from sklearn.metrics import auc\n",
    "\n",
    "def auroc(in_scores, out_scores):\n",
    "    scores = np.concatenate((in_scores, out_scores), axis=0)\n",
    "    start = np.min(scores)\n",
    "    end = np.max(scores)   \n",
    "    gap = (end - start)/100000\n",
    "\n",
    "    aurocBase = 0.0\n",
    "    fprTemp = 1.0\n",
    "    tprs = []\n",
    "    fprs = []\n",
    "\n",
    "    for delta in np.arange(start, end, gap):\n",
    "        tpr = np.sum(np.sum(out_scores > delta)) / len(scores)\n",
    "        fpr = np.sum(np.sum(in_scores > delta)) / len(in_scores)\n",
    "        tprs.append(tpr)\n",
    "        fprs.append(fpr)\n",
    "    return auc(fprs, tprs), fprs, tprs\n",
    "\n",
    "def aupr(in_scores, out_scores):\n",
    "    scores = np.concatenate((in_scores, out_scores), axis=0)\n",
    "    start = np.min(scores)\n",
    "    end = np.max(scores)   \n",
    "    gap = (end - start)/100000\n",
    "\n",
    "    precisions = []\n",
    "    recalls = []\n",
    "    for delta in np.arange(start, end, gap):\n",
    "        tp = np.sum(np.sum(out_scores > delta))\n",
    "        fp = np.sum(np.sum(in_scores > delta))\n",
    "        if tp + fp == 0: continue\n",
    "        precision = tp / (tp + fp)\n",
    "        recall = tp / np.float(len(out_scores))\n",
    "        precisions.append(precision)\n",
    "        recalls.append(recall)\n",
    "    auc(recalls, precisions)\n",
    "    return auc(recalls, precisions), recalls, precisions"
   ]
  },
  {
   "cell_type": "code",
   "execution_count": null,
   "metadata": {},
   "outputs": [],
   "source": [
    "in_scores = scores[lbls_out==0]\n",
    "out_scores = scores[(lbls_out==1) | (lbls_out==2)]\n",
    "auroc_score, fprs, tprs = auroc(in_scores, out_scores)\n",
    "aupr_score, recalls, precisions = aupr(in_scores, out_scores)\n",
    "'AUROC {}, AUPR {}'.format(auroc_score, aupr_score)"
   ]
  },
  {
   "cell_type": "code",
   "execution_count": null,
   "metadata": {},
   "outputs": [],
   "source": [
    "ident=[0.0, 1.0]\n",
    "plt.title('AUROC curve. Score: {:.2f}'.format(auroc_score), fontsize=20)\n",
    "plt.plot(fprs, tprs)\n",
    "plt.plot(ident, ident, c='r')\n",
    "plt.xlabel('FPR', fontsize=18)\n",
    "plt.ylabel('TPR', fontsize=18)\n",
    "plt.grid()"
   ]
  },
  {
   "cell_type": "code",
   "execution_count": null,
   "metadata": {},
   "outputs": [],
   "source": [
    "ident=[[0, 1], [1, 0]]\n",
    "plt.title('AUPR curve. Score: {:.2f}'.format(aupr_score), fontsize=20)\n",
    "plt.plot(recalls, precisions)\n",
    "plt.plot(ident[0], ident[1], c='r')\n",
    "plt.xlabel('recall', fontsize=18)\n",
    "plt.ylabel('Precision', fontsize=18)\n",
    "plt.grid()"
   ]
  }
 ],
 "metadata": {
  "kernelspec": {
   "display_name": "Python 3",
   "language": "python",
   "name": "python3"
  },
  "language_info": {
   "codemirror_mode": {
    "name": "ipython",
    "version": 3
   },
   "file_extension": ".py",
   "mimetype": "text/x-python",
   "name": "python",
   "nbconvert_exporter": "python",
   "pygments_lexer": "ipython3",
   "version": "3.6.9"
  }
 },
 "nbformat": 4,
 "nbformat_minor": 2
}
