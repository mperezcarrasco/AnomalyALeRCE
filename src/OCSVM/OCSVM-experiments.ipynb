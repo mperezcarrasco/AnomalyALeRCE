{
 "cells": [
  {
   "cell_type": "code",
   "execution_count": 1,
   "metadata": {},
   "outputs": [],
   "source": [
    "from sklearn.preprocessing import QuantileTransformer\n",
    "from sklearn.metrics import auc\n",
    "from sklearn.svm import OneClassSVM\n",
    "\n",
    "import matplotlib.pyplot as plt\n",
    "import pandas as pd\n",
    "import numpy as np\n",
    "import pickle\n",
    "import os, json"
   ]
  },
  {
   "cell_type": "code",
   "execution_count": 2,
   "metadata": {},
   "outputs": [],
   "source": [
    "#preprocess\n",
    "def get_data(hierClass, outlier):\n",
    "    feature_list = pd.read_pickle('../../data_raw/features_RF_model.pkl')\n",
    "    train = pd.read_pickle('../../data/train_data_filtered.pkl')\n",
    "    test = pd.read_pickle('../../data/test_data_filtered.pkl')\n",
    "    \n",
    "    train = train[train.hierClass==hierClass]\n",
    "    train['hierPredtmp'] = train['hierClass']\n",
    "    \n",
    "    test = test[test['hierPred']==hierClass]\n",
    "    test['hierPredtmp'] = test['hierPred']\n",
    "    \n",
    "    test = pd.concat([test, train[train.classALeRCE==outlier]], sort=False)\n",
    "    train = train[train.classALeRCE!=outlier]\n",
    "    \n",
    "    train = train[feature_list]\n",
    "    scaler = QuantileTransformer(n_quantiles=1000)\n",
    "    scaler.fit(train)\n",
    "    train = scaler.transform(train)\n",
    "    train[np.isnan(train)] = 0 #NaN to 0.\n",
    "    \n",
    "    test_features = test[feature_list]\n",
    "    test_features = scaler.transform(test_features)\n",
    "    test_features[np.isnan(test_features)] = 0\n",
    "    \n",
    "    test_labels = np.where((test['classALeRCE']!= outlier), 0, test['classALeRCE']) #Inlier:0\n",
    "    test_labels = np.where(test['hierClass']!=test['hierPredtmp'], 1, test_labels) #Type1:1\n",
    "    test_labels = np.where(test['classALeRCE']==outlier, 2, test_labels) #Type2:2\n",
    "    test_labels = test_labels.reshape(-1,).astype('int8')\n",
    "    return train, test_features, test_labels"
   ]
  },
  {
   "cell_type": "code",
   "execution_count": 3,
   "metadata": {},
   "outputs": [],
   "source": [
    "#utils \n",
    "def save_metrics(metrics, root_dir, mode='val'):\n",
    "    \"\"\"save all the metrics.\"\"\"\n",
    "    mt_dir = os.path.join(root_dir, 'metrics_{}.json'.format(mode))\n",
    "    with open(mt_dir, 'w') as mt:\n",
    "        json.dump(metrics, mt)\n",
    "\n",
    "def plot_histogram(in_scores, out1_scores, out2_scores, directory):\n",
    "    plt.hist(in_scores, color='k', alpha=0.3, density=True, label='Inlier')\n",
    "    plt.hist(out1_scores, color='b', alpha=0.3, density=True, label='Outlier1')\n",
    "    plt.hist(out2_scores, color='purple', alpha=0.3, density=True, label='Outlier2')\n",
    "    plt.title('Inliers vs Outliers (OCSVM)')\n",
    "    plt.legend()\n",
    "    plt.savefig('{}/plots/histogram.png'.format(directory))\n",
    "    plt.close()\n",
    "    \n",
    "def compute_metrics(scores, labels, plot_hist=True, directory=None):\n",
    "    \"\"\"\n",
    "    Computing the Area under the curve ROC and PR.\n",
    "    \"\"\"\n",
    "    in_scores = scores[labels==0]\n",
    "    out2_scores = scores[labels==1]\n",
    "    out1_scores = scores[labels==2]\n",
    "\n",
    "    auroc_out1, aupr_out1 = compute_roc_pr(in_scores, out1_scores)\n",
    "    auroc_out2, aupr_out2 = compute_roc_pr(in_scores, out2_scores)\n",
    "    auroc_out12, aupr_out12 = compute_roc_pr(in_scores, \n",
    "                              np.concatenate((out1_scores, out2_scores), axis=0))\n",
    "    metrics = {'AU ROC Out1': auroc_out1,\n",
    "               'AU PR Out1': aupr_out1,\n",
    "               'AU ROC Out2': auroc_out2,\n",
    "               'AU PR Out2': aupr_out2,\n",
    "               'AU ROC Out12': auroc_out12,\n",
    "               'AU PR Out12': aupr_out12,\n",
    "               }\n",
    "    if plot_hist:\n",
    "        plot_histogram(in_scores, out1_scores, out2_scores, directory)\n",
    "    return metrics\n",
    "\n",
    "def compute_roc_pr(inliers_scores, outlier_scores):\n",
    "    auroc_score = auroc(inliers_scores, outlier_scores)\n",
    "    aupr_score = aupr(inliers_scores, outlier_scores)\n",
    "    return auroc_score, aupr_score\n",
    "\n",
    "def auroc(in_scores, out_scores):\n",
    "    scores = np.concatenate((in_scores, out_scores), axis=0)\n",
    "    start = np.min(scores)\n",
    "    end = np.max(scores)   \n",
    "    gap = (end- start)/100000\n",
    "\n",
    "    aurocBase = 0.0\n",
    "    fprTemp = 1.0\n",
    "    tprs = []\n",
    "    fprs = []\n",
    "    for delta in np.arange(start, end, gap):\n",
    "        tpr = np.sum(np.sum(out_scores < delta)) / np.float(len(out_scores))\n",
    "        fpr = np.sum(np.sum(in_scores <= delta)) / np.float(len(in_scores))\n",
    "        tprs.append(tpr)\n",
    "        fprs.append(fpr)\n",
    "    return auc(fprs, tprs)\n",
    "\n",
    "def aupr(in_scores, out_scores):\n",
    "    scores = np.concatenate((in_scores, out_scores), axis=0)\n",
    "    start = np.min(scores)\n",
    "    end = np.max(scores)   \n",
    "    gap = (end- start)/100000\n",
    "    \n",
    "    precisions = []\n",
    "    recalls = []\n",
    "    for delta in np.arange(start, end, gap):\n",
    "        tp = np.sum(np.sum(out_scores <= delta)) #/ np.float(len(out_scores))\n",
    "        fp = np.sum(np.sum(in_scores <= delta)) #/ np.float(len(in_scores))\n",
    "        if tp + fp == 0: continue\n",
    "        precision = tp / (tp + fp)\n",
    "        recall = tp / np.float(len(out_scores))\n",
    "        precisions.append(precision)\n",
    "        recalls.append(recall)\n",
    "    return auc(recalls, precisions)\n",
    "\n",
    "def print_metrics(metrics, directory):\n",
    "    for metric, value in metrics.items():\n",
    "        print(\"{}: {:.3f}\".format(metric, value))\n",
    "    print(\"##########################################\")"
   ]
  },
  {
   "cell_type": "code",
   "execution_count": 4,
   "metadata": {},
   "outputs": [],
   "source": [
    "def train(hierClass, outliers, train_features, directory):\n",
    "    np.random.shuffle(train_features)\n",
    "    clf = OneClassSVM(kernel='rbf', nu=0.001).fit(train_features)\n",
    "    pickle.dump(clf, open('{}/model.pkl'.format(directory), 'wb'))\n",
    "    return clf\n",
    "\n",
    "def test(model, test_features, test_labels, directory):\n",
    "    scores = model.score_samples(test_features)\n",
    "    metrics = compute_metrics(scores, test_labels, plot_hist=True, directory=directory)\n",
    "    print_metrics(metrics, directory)\n",
    "    save_metrics(metrics, directory, 'test')"
   ]
  },
  {
   "cell_type": "markdown",
   "metadata": {},
   "source": [
    "## Transient Experiments"
   ]
  },
  {
   "cell_type": "code",
   "execution_count": 5,
   "metadata": {},
   "outputs": [
    {
     "name": "stderr",
     "output_type": "stream",
     "text": [
      "/home/ubuntu/anaconda3/envs/pytorch_p36/lib/python3.6/site-packages/sklearn/preprocessing/_data.py:2615: UserWarning: n_quantiles (1000) is greater than the total number of samples (810). n_quantiles is set to n_samples.\n",
      "  % (self.n_quantiles, n_samples))\n"
     ]
    },
    {
     "name": "stdout",
     "output_type": "stream",
     "text": [
      "AU ROC Out1: 0.615\n",
      "AU PR Out1: 0.256\n",
      "AU ROC Out2: 0.836\n",
      "AU PR Out2: 0.297\n",
      "AU ROC Out12: 0.696\n",
      "AU PR Out12: 0.400\n",
      "##########################################\n"
     ]
    },
    {
     "name": "stderr",
     "output_type": "stream",
     "text": [
      "/home/ubuntu/anaconda3/envs/pytorch_p36/lib/python3.6/site-packages/sklearn/preprocessing/_data.py:2615: UserWarning: n_quantiles (1000) is greater than the total number of samples (810). n_quantiles is set to n_samples.\n",
      "  % (self.n_quantiles, n_samples))\n"
     ]
    },
    {
     "name": "stdout",
     "output_type": "stream",
     "text": [
      "AU ROC Out1: 0.614\n",
      "AU PR Out1: 0.256\n",
      "AU ROC Out2: 0.835\n",
      "AU PR Out2: 0.297\n",
      "AU ROC Out12: 0.695\n",
      "AU PR Out12: 0.399\n",
      "##########################################\n"
     ]
    },
    {
     "name": "stderr",
     "output_type": "stream",
     "text": [
      "/home/ubuntu/anaconda3/envs/pytorch_p36/lib/python3.6/site-packages/sklearn/preprocessing/_data.py:2615: UserWarning: n_quantiles (1000) is greater than the total number of samples (810). n_quantiles is set to n_samples.\n",
      "  % (self.n_quantiles, n_samples))\n"
     ]
    },
    {
     "name": "stdout",
     "output_type": "stream",
     "text": [
      "AU ROC Out1: 0.614\n",
      "AU PR Out1: 0.255\n",
      "AU ROC Out2: 0.835\n",
      "AU PR Out2: 0.297\n",
      "AU ROC Out12: 0.695\n",
      "AU PR Out12: 0.399\n",
      "##########################################\n"
     ]
    },
    {
     "name": "stderr",
     "output_type": "stream",
     "text": [
      "/home/ubuntu/anaconda3/envs/pytorch_p36/lib/python3.6/site-packages/sklearn/preprocessing/_data.py:2615: UserWarning: n_quantiles (1000) is greater than the total number of samples (810). n_quantiles is set to n_samples.\n",
      "  % (self.n_quantiles, n_samples))\n"
     ]
    },
    {
     "name": "stdout",
     "output_type": "stream",
     "text": [
      "AU ROC Out1: 0.614\n",
      "AU PR Out1: 0.255\n",
      "AU ROC Out2: 0.835\n",
      "AU PR Out2: 0.297\n",
      "AU ROC Out12: 0.695\n",
      "AU PR Out12: 0.399\n",
      "##########################################\n"
     ]
    },
    {
     "name": "stderr",
     "output_type": "stream",
     "text": [
      "/home/ubuntu/anaconda3/envs/pytorch_p36/lib/python3.6/site-packages/sklearn/preprocessing/_data.py:2615: UserWarning: n_quantiles (1000) is greater than the total number of samples (810). n_quantiles is set to n_samples.\n",
      "  % (self.n_quantiles, n_samples))\n"
     ]
    },
    {
     "name": "stdout",
     "output_type": "stream",
     "text": [
      "AU ROC Out1: 0.615\n",
      "AU PR Out1: 0.256\n",
      "AU ROC Out2: 0.835\n",
      "AU PR Out2: 0.297\n",
      "AU ROC Out12: 0.695\n",
      "AU PR Out12: 0.399\n",
      "##########################################\n"
     ]
    },
    {
     "name": "stderr",
     "output_type": "stream",
     "text": [
      "/home/ubuntu/anaconda3/envs/pytorch_p36/lib/python3.6/site-packages/sklearn/preprocessing/_data.py:2615: UserWarning: n_quantiles (1000) is greater than the total number of samples (657). n_quantiles is set to n_samples.\n",
      "  % (self.n_quantiles, n_samples))\n"
     ]
    },
    {
     "name": "stdout",
     "output_type": "stream",
     "text": [
      "AU ROC Out1: 0.694\n",
      "AU PR Out1: 0.748\n",
      "AU ROC Out2: 0.894\n",
      "AU PR Out2: 0.506\n",
      "AU ROC Out12: 0.707\n",
      "AU PR Out12: 0.774\n",
      "##########################################\n"
     ]
    },
    {
     "name": "stderr",
     "output_type": "stream",
     "text": [
      "/home/ubuntu/anaconda3/envs/pytorch_p36/lib/python3.6/site-packages/sklearn/preprocessing/_data.py:2615: UserWarning: n_quantiles (1000) is greater than the total number of samples (657). n_quantiles is set to n_samples.\n",
      "  % (self.n_quantiles, n_samples))\n"
     ]
    },
    {
     "name": "stdout",
     "output_type": "stream",
     "text": [
      "AU ROC Out1: 0.693\n",
      "AU PR Out1: 0.748\n",
      "AU ROC Out2: 0.894\n",
      "AU PR Out2: 0.500\n",
      "AU ROC Out12: 0.706\n",
      "AU PR Out12: 0.774\n",
      "##########################################\n"
     ]
    },
    {
     "name": "stderr",
     "output_type": "stream",
     "text": [
      "/home/ubuntu/anaconda3/envs/pytorch_p36/lib/python3.6/site-packages/sklearn/preprocessing/_data.py:2615: UserWarning: n_quantiles (1000) is greater than the total number of samples (657). n_quantiles is set to n_samples.\n",
      "  % (self.n_quantiles, n_samples))\n"
     ]
    },
    {
     "name": "stdout",
     "output_type": "stream",
     "text": [
      "AU ROC Out1: 0.692\n",
      "AU PR Out1: 0.747\n",
      "AU ROC Out2: 0.894\n",
      "AU PR Out2: 0.499\n",
      "AU ROC Out12: 0.705\n",
      "AU PR Out12: 0.773\n",
      "##########################################\n"
     ]
    },
    {
     "name": "stderr",
     "output_type": "stream",
     "text": [
      "/home/ubuntu/anaconda3/envs/pytorch_p36/lib/python3.6/site-packages/sklearn/preprocessing/_data.py:2615: UserWarning: n_quantiles (1000) is greater than the total number of samples (657). n_quantiles is set to n_samples.\n",
      "  % (self.n_quantiles, n_samples))\n"
     ]
    },
    {
     "name": "stdout",
     "output_type": "stream",
     "text": [
      "AU ROC Out1: 0.695\n",
      "AU PR Out1: 0.749\n",
      "AU ROC Out2: 0.894\n",
      "AU PR Out2: 0.505\n",
      "AU ROC Out12: 0.707\n",
      "AU PR Out12: 0.775\n",
      "##########################################\n"
     ]
    },
    {
     "name": "stderr",
     "output_type": "stream",
     "text": [
      "/home/ubuntu/anaconda3/envs/pytorch_p36/lib/python3.6/site-packages/sklearn/preprocessing/_data.py:2615: UserWarning: n_quantiles (1000) is greater than the total number of samples (657). n_quantiles is set to n_samples.\n",
      "  % (self.n_quantiles, n_samples))\n"
     ]
    },
    {
     "name": "stdout",
     "output_type": "stream",
     "text": [
      "AU ROC Out1: 0.700\n",
      "AU PR Out1: 0.748\n",
      "AU ROC Out2: 0.893\n",
      "AU PR Out2: 0.488\n",
      "AU ROC Out12: 0.713\n",
      "AU PR Out12: 0.774\n",
      "##########################################\n"
     ]
    },
    {
     "name": "stderr",
     "output_type": "stream",
     "text": [
      "/home/ubuntu/anaconda3/envs/pytorch_p36/lib/python3.6/site-packages/sklearn/preprocessing/_data.py:2615: UserWarning: n_quantiles (1000) is greater than the total number of samples (238). n_quantiles is set to n_samples.\n",
      "  % (self.n_quantiles, n_samples))\n"
     ]
    },
    {
     "name": "stdout",
     "output_type": "stream",
     "text": [
      "AU ROC Out1: 0.492\n",
      "AU PR Out1: 0.905\n",
      "AU ROC Out2: 0.774\n",
      "AU PR Out2: 0.414\n",
      "AU ROC Out12: 0.483\n",
      "AU PR Out12: 0.910\n",
      "##########################################\n"
     ]
    },
    {
     "name": "stderr",
     "output_type": "stream",
     "text": [
      "/home/ubuntu/anaconda3/envs/pytorch_p36/lib/python3.6/site-packages/sklearn/preprocessing/_data.py:2615: UserWarning: n_quantiles (1000) is greater than the total number of samples (238). n_quantiles is set to n_samples.\n",
      "  % (self.n_quantiles, n_samples))\n"
     ]
    },
    {
     "name": "stdout",
     "output_type": "stream",
     "text": [
      "AU ROC Out1: 0.477\n",
      "AU PR Out1: 0.905\n",
      "AU ROC Out2: 0.779\n",
      "AU PR Out2: 0.422\n",
      "AU ROC Out12: 0.483\n",
      "AU PR Out12: 0.910\n",
      "##########################################\n"
     ]
    },
    {
     "name": "stderr",
     "output_type": "stream",
     "text": [
      "/home/ubuntu/anaconda3/envs/pytorch_p36/lib/python3.6/site-packages/sklearn/preprocessing/_data.py:2615: UserWarning: n_quantiles (1000) is greater than the total number of samples (238). n_quantiles is set to n_samples.\n",
      "  % (self.n_quantiles, n_samples))\n"
     ]
    },
    {
     "name": "stdout",
     "output_type": "stream",
     "text": [
      "AU ROC Out1: 0.476\n",
      "AU PR Out1: 0.905\n",
      "AU ROC Out2: 0.778\n",
      "AU PR Out2: 0.419\n",
      "AU ROC Out12: 0.482\n",
      "AU PR Out12: 0.910\n",
      "##########################################\n"
     ]
    },
    {
     "name": "stderr",
     "output_type": "stream",
     "text": [
      "/home/ubuntu/anaconda3/envs/pytorch_p36/lib/python3.6/site-packages/sklearn/preprocessing/_data.py:2615: UserWarning: n_quantiles (1000) is greater than the total number of samples (238). n_quantiles is set to n_samples.\n",
      "  % (self.n_quantiles, n_samples))\n"
     ]
    },
    {
     "name": "stdout",
     "output_type": "stream",
     "text": [
      "AU ROC Out1: 0.478\n",
      "AU PR Out1: 0.905\n",
      "AU ROC Out2: 0.777\n",
      "AU PR Out2: 0.421\n",
      "AU ROC Out12: 0.484\n",
      "AU PR Out12: 0.910\n",
      "##########################################\n"
     ]
    },
    {
     "name": "stderr",
     "output_type": "stream",
     "text": [
      "/home/ubuntu/anaconda3/envs/pytorch_p36/lib/python3.6/site-packages/sklearn/preprocessing/_data.py:2615: UserWarning: n_quantiles (1000) is greater than the total number of samples (238). n_quantiles is set to n_samples.\n",
      "  % (self.n_quantiles, n_samples))\n"
     ]
    },
    {
     "name": "stdout",
     "output_type": "stream",
     "text": [
      "AU ROC Out1: 0.474\n",
      "AU PR Out1: 0.905\n",
      "AU ROC Out2: 0.791\n",
      "AU PR Out2: 0.421\n",
      "AU ROC Out12: 0.496\n",
      "AU PR Out12: 0.910\n",
      "##########################################\n"
     ]
    },
    {
     "name": "stderr",
     "output_type": "stream",
     "text": [
      "/home/ubuntu/anaconda3/envs/pytorch_p36/lib/python3.6/site-packages/sklearn/preprocessing/_data.py:2615: UserWarning: n_quantiles (1000) is greater than the total number of samples (785). n_quantiles is set to n_samples.\n",
      "  % (self.n_quantiles, n_samples))\n"
     ]
    },
    {
     "name": "stdout",
     "output_type": "stream",
     "text": [
      "AU ROC Out1: 0.547\n",
      "AU PR Out1: 0.234\n",
      "AU ROC Out2: 0.834\n",
      "AU PR Out2: 0.291\n",
      "AU ROC Out12: 0.608\n",
      "AU PR Out12: 0.349\n",
      "##########################################\n"
     ]
    },
    {
     "name": "stderr",
     "output_type": "stream",
     "text": [
      "/home/ubuntu/anaconda3/envs/pytorch_p36/lib/python3.6/site-packages/sklearn/preprocessing/_data.py:2615: UserWarning: n_quantiles (1000) is greater than the total number of samples (785). n_quantiles is set to n_samples.\n",
      "  % (self.n_quantiles, n_samples))\n"
     ]
    },
    {
     "name": "stdout",
     "output_type": "stream",
     "text": [
      "AU ROC Out1: 0.547\n",
      "AU PR Out1: 0.234\n",
      "AU ROC Out2: 0.834\n",
      "AU PR Out2: 0.294\n",
      "AU ROC Out12: 0.609\n",
      "AU PR Out12: 0.349\n",
      "##########################################\n"
     ]
    },
    {
     "name": "stderr",
     "output_type": "stream",
     "text": [
      "/home/ubuntu/anaconda3/envs/pytorch_p36/lib/python3.6/site-packages/sklearn/preprocessing/_data.py:2615: UserWarning: n_quantiles (1000) is greater than the total number of samples (785). n_quantiles is set to n_samples.\n",
      "  % (self.n_quantiles, n_samples))\n"
     ]
    },
    {
     "name": "stdout",
     "output_type": "stream",
     "text": [
      "AU ROC Out1: 0.547\n",
      "AU PR Out1: 0.235\n",
      "AU ROC Out2: 0.833\n",
      "AU PR Out2: 0.288\n",
      "AU ROC Out12: 0.608\n",
      "AU PR Out12: 0.350\n",
      "##########################################\n"
     ]
    },
    {
     "name": "stderr",
     "output_type": "stream",
     "text": [
      "/home/ubuntu/anaconda3/envs/pytorch_p36/lib/python3.6/site-packages/sklearn/preprocessing/_data.py:2615: UserWarning: n_quantiles (1000) is greater than the total number of samples (785). n_quantiles is set to n_samples.\n",
      "  % (self.n_quantiles, n_samples))\n"
     ]
    },
    {
     "name": "stdout",
     "output_type": "stream",
     "text": [
      "AU ROC Out1: 0.546\n",
      "AU PR Out1: 0.234\n",
      "AU ROC Out2: 0.833\n",
      "AU PR Out2: 0.293\n",
      "AU ROC Out12: 0.608\n",
      "AU PR Out12: 0.349\n",
      "##########################################\n"
     ]
    },
    {
     "name": "stderr",
     "output_type": "stream",
     "text": [
      "/home/ubuntu/anaconda3/envs/pytorch_p36/lib/python3.6/site-packages/sklearn/preprocessing/_data.py:2615: UserWarning: n_quantiles (1000) is greater than the total number of samples (785). n_quantiles is set to n_samples.\n",
      "  % (self.n_quantiles, n_samples))\n"
     ]
    },
    {
     "name": "stdout",
     "output_type": "stream",
     "text": [
      "AU ROC Out1: 0.547\n",
      "AU PR Out1: 0.234\n",
      "AU ROC Out2: 0.832\n",
      "AU PR Out2: 0.290\n",
      "AU ROC Out12: 0.608\n",
      "AU PR Out12: 0.348\n",
      "##########################################\n"
     ]
    }
   ],
   "source": [
    "hierClass = 'Transient'\n",
    "outliers = ['SLSN',\n",
    "            'SNII',\n",
    "            'SNIa',\n",
    "            'SNIbc']\n",
    "\n",
    "for outlier in outliers:\n",
    "    for run in range(5):\n",
    "        directory = '../experiments/OCSVM_{}_{}_run{}'.format(hierClass, outlier, run)\n",
    "        if not os.path.exists(directory):\n",
    "            os.makedirs(directory)\n",
    "        plots_dir = '{}/plots'.format(directory)\n",
    "        if not os.path.exists(plots_dir):\n",
    "            os.makedirs(plots_dir)\n",
    "        \n",
    "        train_features, test_features, test_labels = get_data(hierClass, outlier)\n",
    "        model = train(hierClass, outlier, train_features, directory)\n",
    "        test(model, test_features, test_labels, directory)"
   ]
  },
  {
   "cell_type": "markdown",
   "metadata": {},
   "source": [
    "## Stochastic Experiments"
   ]
  },
  {
   "cell_type": "code",
   "execution_count": 6,
   "metadata": {},
   "outputs": [
    {
     "name": "stdout",
     "output_type": "stream",
     "text": [
      "AU ROC Out1: 0.559\n",
      "AU PR Out1: 0.439\n",
      "AU ROC Out2: 0.647\n",
      "AU PR Out2: 0.008\n",
      "AU ROC Out12: 0.559\n",
      "AU PR Out12: 0.441\n",
      "##########################################\n",
      "AU ROC Out1: 0.559\n",
      "AU PR Out1: 0.439\n",
      "AU ROC Out2: 0.646\n",
      "AU PR Out2: 0.008\n",
      "AU ROC Out12: 0.559\n",
      "AU PR Out12: 0.441\n",
      "##########################################\n",
      "AU ROC Out1: 0.558\n",
      "AU PR Out1: 0.439\n",
      "AU ROC Out2: 0.646\n",
      "AU PR Out2: 0.008\n",
      "AU ROC Out12: 0.559\n",
      "AU PR Out12: 0.441\n",
      "##########################################\n",
      "AU ROC Out1: 0.558\n",
      "AU PR Out1: 0.439\n",
      "AU ROC Out2: 0.646\n",
      "AU PR Out2: 0.008\n",
      "AU ROC Out12: 0.559\n",
      "AU PR Out12: 0.441\n",
      "##########################################\n",
      "AU ROC Out1: 0.559\n",
      "AU PR Out1: 0.439\n",
      "AU ROC Out2: 0.647\n",
      "AU PR Out2: 0.008\n",
      "AU ROC Out12: 0.559\n",
      "AU PR Out12: 0.441\n",
      "##########################################\n",
      "AU ROC Out1: 0.560\n",
      "AU PR Out1: 0.165\n",
      "AU ROC Out2: 0.641\n",
      "AU PR Out2: 0.007\n",
      "AU ROC Out12: 0.562\n",
      "AU PR Out12: 0.170\n",
      "##########################################\n",
      "AU ROC Out1: 0.560\n",
      "AU PR Out1: 0.165\n",
      "AU ROC Out2: 0.641\n",
      "AU PR Out2: 0.007\n",
      "AU ROC Out12: 0.562\n",
      "AU PR Out12: 0.170\n",
      "##########################################\n",
      "AU ROC Out1: 0.560\n",
      "AU PR Out1: 0.165\n",
      "AU ROC Out2: 0.641\n",
      "AU PR Out2: 0.007\n",
      "AU ROC Out12: 0.562\n",
      "AU PR Out12: 0.169\n",
      "##########################################\n",
      "AU ROC Out1: 0.560\n",
      "AU PR Out1: 0.165\n",
      "AU ROC Out2: 0.641\n",
      "AU PR Out2: 0.007\n",
      "AU ROC Out12: 0.562\n",
      "AU PR Out12: 0.169\n",
      "##########################################\n",
      "AU ROC Out1: 0.560\n",
      "AU PR Out1: 0.165\n",
      "AU ROC Out2: 0.641\n",
      "AU PR Out2: 0.007\n",
      "AU ROC Out12: 0.562\n",
      "AU PR Out12: 0.170\n",
      "##########################################\n",
      "AU ROC Out1: 0.929\n",
      "AU PR Out1: 0.655\n",
      "AU ROC Out2: 0.678\n",
      "AU PR Out2: 0.010\n",
      "AU ROC Out12: 0.917\n",
      "AU PR Out12: 0.641\n",
      "##########################################\n",
      "AU ROC Out1: 0.929\n",
      "AU PR Out1: 0.655\n",
      "AU ROC Out2: 0.678\n",
      "AU PR Out2: 0.010\n",
      "AU ROC Out12: 0.917\n",
      "AU PR Out12: 0.641\n",
      "##########################################\n",
      "AU ROC Out1: 0.929\n",
      "AU PR Out1: 0.656\n",
      "AU ROC Out2: 0.678\n",
      "AU PR Out2: 0.010\n",
      "AU ROC Out12: 0.917\n",
      "AU PR Out12: 0.641\n",
      "##########################################\n",
      "AU ROC Out1: 0.929\n",
      "AU PR Out1: 0.656\n",
      "AU ROC Out2: 0.678\n",
      "AU PR Out2: 0.010\n",
      "AU ROC Out12: 0.917\n",
      "AU PR Out12: 0.641\n",
      "##########################################\n",
      "AU ROC Out1: 0.929\n",
      "AU PR Out1: 0.655\n",
      "AU ROC Out2: 0.678\n",
      "AU PR Out2: 0.010\n",
      "AU ROC Out12: 0.917\n",
      "AU PR Out12: 0.641\n",
      "##########################################\n",
      "AU ROC Out1: 0.640\n",
      "AU PR Out1: 0.972\n",
      "AU ROC Out2: 0.606\n",
      "AU PR Out2: 0.033\n",
      "AU ROC Out12: 0.640\n",
      "AU PR Out12: 0.972\n",
      "##########################################\n",
      "AU ROC Out1: 0.640\n",
      "AU PR Out1: 0.972\n",
      "AU ROC Out2: 0.606\n",
      "AU PR Out2: 0.033\n",
      "AU ROC Out12: 0.640\n",
      "AU PR Out12: 0.972\n",
      "##########################################\n",
      "AU ROC Out1: 0.640\n",
      "AU PR Out1: 0.972\n",
      "AU ROC Out2: 0.606\n",
      "AU PR Out2: 0.033\n",
      "AU ROC Out12: 0.640\n",
      "AU PR Out12: 0.972\n",
      "##########################################\n",
      "AU ROC Out1: 0.640\n",
      "AU PR Out1: 0.972\n",
      "AU ROC Out2: 0.606\n",
      "AU PR Out2: 0.033\n",
      "AU ROC Out12: 0.640\n",
      "AU PR Out12: 0.972\n",
      "##########################################\n",
      "AU ROC Out1: 0.640\n",
      "AU PR Out1: 0.972\n",
      "AU ROC Out2: 0.605\n",
      "AU PR Out2: 0.033\n",
      "AU ROC Out12: 0.640\n",
      "AU PR Out12: 0.972\n",
      "##########################################\n",
      "AU ROC Out1: 0.850\n",
      "AU PR Out1: 0.545\n",
      "AU ROC Out2: 0.706\n",
      "AU PR Out2: 0.011\n",
      "AU ROC Out12: 0.847\n",
      "AU PR Out12: 0.546\n",
      "##########################################\n",
      "AU ROC Out1: 0.850\n",
      "AU PR Out1: 0.545\n",
      "AU ROC Out2: 0.706\n",
      "AU PR Out2: 0.011\n",
      "AU ROC Out12: 0.847\n",
      "AU PR Out12: 0.546\n",
      "##########################################\n",
      "AU ROC Out1: 0.850\n",
      "AU PR Out1: 0.546\n",
      "AU ROC Out2: 0.706\n",
      "AU PR Out2: 0.011\n",
      "AU ROC Out12: 0.847\n",
      "AU PR Out12: 0.546\n",
      "##########################################\n",
      "AU ROC Out1: 0.850\n",
      "AU PR Out1: 0.545\n",
      "AU ROC Out2: 0.706\n",
      "AU PR Out2: 0.011\n",
      "AU ROC Out12: 0.847\n",
      "AU PR Out12: 0.546\n",
      "##########################################\n",
      "AU ROC Out1: 0.850\n",
      "AU PR Out1: 0.545\n",
      "AU ROC Out2: 0.706\n",
      "AU PR Out2: 0.011\n",
      "AU ROC Out12: 0.847\n",
      "AU PR Out12: 0.546\n",
      "##########################################\n"
     ]
    }
   ],
   "source": [
    "hierClass = 'Stochastic'\n",
    "outliers = ['AGN',\n",
    "            'Blazar',\n",
    "            'CV/Nova',\n",
    "            'QSO',\n",
    "            'YSO']\n",
    "\n",
    "for outlier in outliers:\n",
    "    for run in range(5):\n",
    "        directory = '../experiments/OCSVM_{}_{}_run{}'.format(hierClass, outlier, run)\n",
    "        if not os.path.exists(directory):\n",
    "            os.makedirs(directory)\n",
    "        plots_dir = '{}/plots'.format(directory)\n",
    "        if not os.path.exists(plots_dir):\n",
    "            os.makedirs(plots_dir)\n",
    "        \n",
    "        train_features, test_features, test_labels = get_data(hierClass, outlier)\n",
    "        model = train(hierClass, outlier, train_features, directory)\n",
    "        test(model, test_features, test_labels, directory)"
   ]
  },
  {
   "cell_type": "markdown",
   "metadata": {},
   "source": [
    "## Periodic Experiments"
   ]
  },
  {
   "cell_type": "code",
   "execution_count": 7,
   "metadata": {},
   "outputs": [
    {
     "name": "stdout",
     "output_type": "stream",
     "text": [
      "AU ROC Out1: 0.456\n",
      "AU PR Out1: 0.018\n",
      "AU ROC Out2: 0.601\n",
      "AU PR Out2: 0.024\n",
      "AU ROC Out12: 0.513\n",
      "AU PR Out12: 0.038\n",
      "##########################################\n",
      "AU ROC Out1: 0.456\n",
      "AU PR Out1: 0.018\n",
      "AU ROC Out2: 0.601\n",
      "AU PR Out2: 0.024\n",
      "AU ROC Out12: 0.513\n",
      "AU PR Out12: 0.038\n",
      "##########################################\n",
      "AU ROC Out1: 0.456\n",
      "AU PR Out1: 0.018\n",
      "AU ROC Out2: 0.601\n",
      "AU PR Out2: 0.024\n",
      "AU ROC Out12: 0.513\n",
      "AU PR Out12: 0.038\n",
      "##########################################\n",
      "AU ROC Out1: 0.456\n",
      "AU PR Out1: 0.018\n",
      "AU ROC Out2: 0.601\n",
      "AU PR Out2: 0.024\n",
      "AU ROC Out12: 0.513\n",
      "AU PR Out12: 0.038\n",
      "##########################################\n",
      "AU ROC Out1: 0.456\n",
      "AU PR Out1: 0.018\n",
      "AU ROC Out2: 0.601\n",
      "AU PR Out2: 0.024\n",
      "AU ROC Out12: 0.513\n",
      "AU PR Out12: 0.038\n",
      "##########################################\n",
      "AU ROC Out1: 0.533\n",
      "AU PR Out1: 0.032\n",
      "AU ROC Out2: 0.601\n",
      "AU PR Out2: 0.024\n",
      "AU ROC Out12: 0.554\n",
      "AU PR Out12: 0.052\n",
      "##########################################\n",
      "AU ROC Out1: 0.533\n",
      "AU PR Out1: 0.032\n",
      "AU ROC Out2: 0.601\n",
      "AU PR Out2: 0.024\n",
      "AU ROC Out12: 0.554\n",
      "AU PR Out12: 0.052\n",
      "##########################################\n",
      "AU ROC Out1: 0.533\n",
      "AU PR Out1: 0.032\n",
      "AU ROC Out2: 0.601\n",
      "AU PR Out2: 0.024\n",
      "AU ROC Out12: 0.554\n",
      "AU PR Out12: 0.052\n",
      "##########################################\n",
      "AU ROC Out1: 0.533\n",
      "AU PR Out1: 0.032\n",
      "AU ROC Out2: 0.601\n",
      "AU PR Out2: 0.024\n",
      "AU ROC Out12: 0.554\n",
      "AU PR Out12: 0.052\n",
      "##########################################\n",
      "AU ROC Out1: 0.533\n",
      "AU PR Out1: 0.032\n",
      "AU ROC Out2: 0.601\n",
      "AU PR Out2: 0.024\n",
      "AU ROC Out12: 0.554\n",
      "AU PR Out12: 0.052\n",
      "##########################################\n",
      "AU ROC Out1: 0.602\n",
      "AU PR Out1: 0.782\n",
      "AU ROC Out2: 0.647\n",
      "AU PR Out2: 0.054\n",
      "AU ROC Out12: 0.602\n",
      "AU PR Out12: 0.784\n",
      "##########################################\n",
      "AU ROC Out1: 0.602\n",
      "AU PR Out1: 0.782\n",
      "AU ROC Out2: 0.647\n",
      "AU PR Out2: 0.054\n",
      "AU ROC Out12: 0.602\n",
      "AU PR Out12: 0.784\n",
      "##########################################\n",
      "AU ROC Out1: 0.602\n",
      "AU PR Out1: 0.782\n",
      "AU ROC Out2: 0.647\n",
      "AU PR Out2: 0.054\n",
      "AU ROC Out12: 0.602\n",
      "AU PR Out12: 0.784\n",
      "##########################################\n",
      "AU ROC Out1: 0.602\n",
      "AU PR Out1: 0.782\n",
      "AU ROC Out2: 0.647\n",
      "AU PR Out2: 0.054\n",
      "AU ROC Out12: 0.602\n",
      "AU PR Out12: 0.784\n",
      "##########################################\n",
      "AU ROC Out1: 0.602\n",
      "AU PR Out1: 0.782\n",
      "AU ROC Out2: 0.647\n",
      "AU PR Out2: 0.054\n",
      "AU ROC Out12: 0.602\n",
      "AU PR Out12: 0.784\n",
      "##########################################\n",
      "AU ROC Out1: 0.623\n",
      "AU PR Out1: 0.793\n",
      "AU ROC Out2: 0.565\n",
      "AU PR Out2: 0.032\n",
      "AU ROC Out12: 0.623\n",
      "AU PR Out12: 0.795\n",
      "##########################################\n",
      "AU ROC Out1: 0.623\n",
      "AU PR Out1: 0.793\n",
      "AU ROC Out2: 0.566\n",
      "AU PR Out2: 0.032\n",
      "AU ROC Out12: 0.623\n",
      "AU PR Out12: 0.795\n",
      "##########################################\n",
      "AU ROC Out1: 0.623\n",
      "AU PR Out1: 0.793\n",
      "AU ROC Out2: 0.566\n",
      "AU PR Out2: 0.032\n",
      "AU ROC Out12: 0.623\n",
      "AU PR Out12: 0.795\n",
      "##########################################\n",
      "AU ROC Out1: 0.623\n",
      "AU PR Out1: 0.793\n",
      "AU ROC Out2: 0.566\n",
      "AU PR Out2: 0.032\n",
      "AU ROC Out12: 0.623\n",
      "AU PR Out12: 0.795\n",
      "##########################################\n",
      "AU ROC Out1: 0.623\n",
      "AU PR Out1: 0.793\n",
      "AU ROC Out2: 0.566\n",
      "AU PR Out2: 0.032\n",
      "AU ROC Out12: 0.623\n",
      "AU PR Out12: 0.795\n",
      "##########################################\n",
      "AU ROC Out1: 0.940\n",
      "AU PR Out1: 0.967\n",
      "AU ROC Out2: 0.817\n",
      "AU PR Out2: 0.150\n",
      "AU ROC Out12: 0.939\n",
      "AU PR Out12: 0.967\n",
      "##########################################\n",
      "AU ROC Out1: 0.940\n",
      "AU PR Out1: 0.967\n",
      "AU ROC Out2: 0.817\n",
      "AU PR Out2: 0.150\n",
      "AU ROC Out12: 0.939\n",
      "AU PR Out12: 0.967\n",
      "##########################################\n",
      "AU ROC Out1: 0.940\n",
      "AU PR Out1: 0.967\n",
      "AU ROC Out2: 0.817\n",
      "AU PR Out2: 0.150\n",
      "AU ROC Out12: 0.939\n",
      "AU PR Out12: 0.967\n",
      "##########################################\n",
      "AU ROC Out1: 0.940\n",
      "AU PR Out1: 0.967\n",
      "AU ROC Out2: 0.817\n",
      "AU PR Out2: 0.150\n",
      "AU ROC Out12: 0.939\n",
      "AU PR Out12: 0.967\n",
      "##########################################\n",
      "AU ROC Out1: 0.940\n",
      "AU PR Out1: 0.967\n",
      "AU ROC Out2: 0.817\n",
      "AU PR Out2: 0.150\n",
      "AU ROC Out12: 0.939\n",
      "AU PR Out12: 0.967\n",
      "##########################################\n"
     ]
    }
   ],
   "source": [
    "hierClass = 'Periodic'\n",
    "outliers = ['CEP',\n",
    "            'DSCT',\n",
    "            'E',\n",
    "            'RRL',\n",
    "            'LPV']\n",
    "\n",
    "\n",
    "for outlier in outliers:\n",
    "    for run in range(5):\n",
    "        directory = '../experiments/OCSVM_{}_{}_run{}'.format(hierClass, outlier, run)\n",
    "        if not os.path.exists(directory):\n",
    "            os.makedirs(directory)\n",
    "        plots_dir = '{}/plots'.format(directory)\n",
    "        if not os.path.exists(plots_dir):\n",
    "            os.makedirs(plots_dir)\n",
    "        \n",
    "        train_features, test_features, test_labels = get_data(hierClass, outlier)\n",
    "        model = train(hierClass, outlier, train_features, directory)\n",
    "        test(model, test_features, test_labels, directory)"
   ]
  },
  {
   "cell_type": "code",
   "execution_count": null,
   "metadata": {},
   "outputs": [],
   "source": []
  }
 ],
 "metadata": {
  "kernelspec": {
   "display_name": "Python 3",
   "language": "python",
   "name": "python3"
  },
  "language_info": {
   "codemirror_mode": {
    "name": "ipython",
    "version": 3
   },
   "file_extension": ".py",
   "mimetype": "text/x-python",
   "name": "python",
   "nbconvert_exporter": "python",
   "pygments_lexer": "ipython3",
   "version": "3.6.13"
  }
 },
 "nbformat": 4,
 "nbformat_minor": 2
}
