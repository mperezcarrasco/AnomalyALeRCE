{
 "cells": [
  {
   "cell_type": "code",
   "execution_count": 1,
   "metadata": {},
   "outputs": [],
   "source": [
    "from sklearn.metrics import auc\n",
    "from sklearn.ensemble import IsolationForest\n",
    "\n",
    "import matplotlib.pyplot as plt\n",
    "import pandas as pd\n",
    "import numpy as np\n",
    "import pickle\n",
    "import os, json"
   ]
  },
  {
   "cell_type": "code",
   "execution_count": 29,
   "metadata": {},
   "outputs": [],
   "source": [
    "#preprocess\n",
    "def get_data(hierClass, outlier):\n",
    "    \n",
    "    feature_list = pd.read_pickle('../../data_raw/features_RF_model.pkl')\n",
    "    train = pd.read_pickle('../../data/train_data_filtered.pkl')\n",
    "    test = pd.read_pickle('../../data/test_data_filtered.pkl')\n",
    "    \n",
    "    train = train[train.hierClass==hierClass]\n",
    "    train['hierPredtmp'] = train['hierClass']\n",
    "    \n",
    "    test = test[test['hierPred']==hierClass]\n",
    "    test['hierPredtmp'] = test['hierPred']\n",
    "    \n",
    "    test = pd.concat([test, train[train.classALeRCE==outlier]], sort=False)\n",
    "    train = train[train.classALeRCE!=outlier]\n",
    "    \n",
    "    train = train[feature_list]\n",
    "    train[np.isnan(train)] = -999\n",
    "    \n",
    "    test_features = test[feature_list]\n",
    "    test_features[np.isnan(test_features)] = -999\n",
    "    \n",
    "    test_labels = np.where((test['classALeRCE']!= outlier), 0, test['classALeRCE']) #Inlier:0\n",
    "    test_labels = np.where(test['hierClass']!=test['hierPredtmp'], 1, test_labels) #Type1:1\n",
    "    test_labels = np.where(test['classALeRCE']==outlier, 2, test_labels) #Type2:2\n",
    "    test_labels = test_labels.reshape(-1,).astype('int8')\n",
    "    return train, test_features, test_labels"
   ]
  },
  {
   "cell_type": "code",
   "execution_count": 30,
   "metadata": {},
   "outputs": [],
   "source": [
    "#utils \n",
    "def save_metrics(metrics, root_dir, mode='val'):\n",
    "    \"\"\"save all the metrics.\"\"\"\n",
    "    mt_dir = os.path.join(root_dir, 'metrics_{}.json'.format(mode))\n",
    "    with open(mt_dir, 'w') as mt:\n",
    "        json.dump(metrics, mt)\n",
    "\n",
    "def plot_histogram(in_scores, out1_scores, out2_scores, directory):\n",
    "    plt.hist(in_scores, color='k', alpha=0.3, density=True, label='Inlier')\n",
    "    plt.hist(out1_scores, color='b', alpha=0.3, density=True, label='Outlier1')\n",
    "    plt.hist(out2_scores, color='purple', alpha=0.3, density=True, label='Outlier2')\n",
    "    plt.title('Inliers vs Outliers (IForest)')\n",
    "    plt.legend()\n",
    "    plt.savefig('{}/plots/histogram.png'.format(directory))\n",
    "    plt.close()\n",
    "    \n",
    "def compute_metrics(scores, labels, plot_hist=True, directory=None):\n",
    "    \"\"\"\n",
    "    Computing the Area under the curve ROC and PR.\n",
    "    \"\"\"\n",
    "    in_scores = scores[labels==0]\n",
    "    out2_scores = scores[labels==1]\n",
    "    out1_scores = scores[labels==2]\n",
    "\n",
    "    auroc_out1, aupr_out1 = compute_roc_pr(in_scores, out1_scores)\n",
    "    auroc_out2, aupr_out2 = compute_roc_pr(in_scores, out2_scores)\n",
    "    auroc_out12, aupr_out12 = compute_roc_pr(in_scores, \n",
    "                              np.concatenate((out1_scores, out2_scores), axis=0))\n",
    "    metrics = {'AU ROC Out1': auroc_out1,\n",
    "               'AU PR Out1': aupr_out1,\n",
    "               'AU ROC Out2': auroc_out2,\n",
    "               'AU PR Out2': aupr_out2,\n",
    "               'AU ROC Out12': auroc_out12,\n",
    "               'AU PR Out12': aupr_out12,\n",
    "               }\n",
    "    if plot_hist:\n",
    "        plot_histogram(in_scores, out1_scores, out2_scores, directory)\n",
    "    return metrics\n",
    "\n",
    "def compute_roc_pr(inliers_scores, outlier_scores):\n",
    "    auroc_score = auroc(inliers_scores, outlier_scores)\n",
    "    aupr_score = aupr(inliers_scores, outlier_scores)\n",
    "    return auroc_score, aupr_score\n",
    "\n",
    "def auroc(in_scores, out_scores):\n",
    "    scores = np.concatenate((in_scores, out_scores), axis=0)\n",
    "    start = np.min(scores)\n",
    "    end = np.max(scores)   \n",
    "    gap = (end- start)/100000\n",
    "\n",
    "    aurocBase = 0.0\n",
    "    fprTemp = 1.0\n",
    "    tprs = []\n",
    "    fprs = []\n",
    "    for delta in np.arange(start, end, gap):\n",
    "        tpr = np.sum(np.sum(out_scores < delta)) / np.float(len(out_scores))\n",
    "        fpr = np.sum(np.sum(in_scores <= delta)) / np.float(len(in_scores))\n",
    "        tprs.append(tpr)\n",
    "        fprs.append(fpr)\n",
    "    return auc(fprs, tprs)\n",
    "\n",
    "def aupr(in_scores, out_scores):\n",
    "    scores = np.concatenate((in_scores, out_scores), axis=0)\n",
    "    start = np.min(scores)\n",
    "    end = np.max(scores)   \n",
    "    gap = (end- start)/100000\n",
    "    \n",
    "    precisions = []\n",
    "    recalls = []\n",
    "    for delta in np.arange(start, end, gap):\n",
    "        tp = np.sum(np.sum(out_scores <= delta)) #/ np.float(len(out_scores))\n",
    "        fp = np.sum(np.sum(in_scores <= delta)) #/ np.float(len(in_scores))\n",
    "        if tp + fp == 0: continue\n",
    "        precision = tp / (tp + fp)\n",
    "        recall = tp / np.float(len(out_scores))\n",
    "        precisions.append(precision)\n",
    "        recalls.append(recall)\n",
    "    return auc(recalls, precisions)\n",
    "\n",
    "def print_metrics(metrics, directory):\n",
    "    for metric, value in metrics.items():\n",
    "        print(\"{}: {:.3f}\".format(metric, value))\n",
    "    print(\"##########################################\")"
   ]
  },
  {
   "cell_type": "code",
   "execution_count": 31,
   "metadata": {},
   "outputs": [],
   "source": [
    "def train(hierClass, outliers, train_features, directory):\n",
    "    clf = IsolationForest(n_estimators=100, max_samples=256, contamination='auto').fit(train_features)\n",
    "    pickle.dump(clf, open('{}/model.pkl'.format(directory), 'wb'))\n",
    "    return clf\n",
    "\n",
    "def test(model, test_features, test_labels, directory):\n",
    "    scores = model.score_samples(test_features)\n",
    "    metrics = compute_metrics(scores, test_labels, plot_hist=True, directory=directory)\n",
    "    print_metrics(metrics, directory)\n",
    "    save_metrics(metrics, directory, 'test')"
   ]
  },
  {
   "cell_type": "markdown",
   "metadata": {},
   "source": [
    "## Transient Experiments"
   ]
  },
  {
   "cell_type": "code",
   "execution_count": 32,
   "metadata": {},
   "outputs": [
    {
     "name": "stderr",
     "output_type": "stream",
     "text": [
      "/home/ubuntu/anaconda3/envs/pytorch_p36/lib/python3.6/site-packages/ipykernel_launcher.py:22: SettingWithCopyWarning: \n",
      "A value is trying to be set on a copy of a slice from a DataFrame.\n",
      "Try using .loc[row_indexer,col_indexer] = value instead\n",
      "\n",
      "See the caveats in the documentation: https://pandas.pydata.org/pandas-docs/stable/user_guide/indexing.html#returning-a-view-versus-a-copy\n",
      "/home/ubuntu/anaconda3/envs/pytorch_p36/lib/python3.6/site-packages/pandas/core/frame.py:3093: SettingWithCopyWarning: \n",
      "A value is trying to be set on a copy of a slice from a DataFrame\n",
      "\n",
      "See the caveats in the documentation: https://pandas.pydata.org/pandas-docs/stable/user_guide/indexing.html#returning-a-view-versus-a-copy\n",
      "  self._where(-key, value, inplace=True)\n"
     ]
    },
    {
     "name": "stdout",
     "output_type": "stream",
     "text": [
      "AU ROC Out1: 0.675\n",
      "AU PR Out1: 0.185\n",
      "AU ROC Out2: 0.823\n",
      "AU PR Out2: 0.341\n",
      "AU ROC Out12: 0.748\n",
      "AU PR Out12: 0.403\n",
      "##########################################\n"
     ]
    },
    {
     "name": "stderr",
     "output_type": "stream",
     "text": [
      "/home/ubuntu/anaconda3/envs/pytorch_p36/lib/python3.6/site-packages/ipykernel_launcher.py:22: SettingWithCopyWarning: \n",
      "A value is trying to be set on a copy of a slice from a DataFrame.\n",
      "Try using .loc[row_indexer,col_indexer] = value instead\n",
      "\n",
      "See the caveats in the documentation: https://pandas.pydata.org/pandas-docs/stable/user_guide/indexing.html#returning-a-view-versus-a-copy\n",
      "/home/ubuntu/anaconda3/envs/pytorch_p36/lib/python3.6/site-packages/pandas/core/frame.py:3093: SettingWithCopyWarning: \n",
      "A value is trying to be set on a copy of a slice from a DataFrame\n",
      "\n",
      "See the caveats in the documentation: https://pandas.pydata.org/pandas-docs/stable/user_guide/indexing.html#returning-a-view-versus-a-copy\n",
      "  self._where(-key, value, inplace=True)\n"
     ]
    },
    {
     "name": "stdout",
     "output_type": "stream",
     "text": [
      "AU ROC Out1: 0.690\n",
      "AU PR Out1: 0.193\n",
      "AU ROC Out2: 0.804\n",
      "AU PR Out2: 0.336\n",
      "AU ROC Out12: 0.746\n",
      "AU PR Out12: 0.406\n",
      "##########################################\n"
     ]
    },
    {
     "name": "stderr",
     "output_type": "stream",
     "text": [
      "/home/ubuntu/anaconda3/envs/pytorch_p36/lib/python3.6/site-packages/ipykernel_launcher.py:22: SettingWithCopyWarning: \n",
      "A value is trying to be set on a copy of a slice from a DataFrame.\n",
      "Try using .loc[row_indexer,col_indexer] = value instead\n",
      "\n",
      "See the caveats in the documentation: https://pandas.pydata.org/pandas-docs/stable/user_guide/indexing.html#returning-a-view-versus-a-copy\n",
      "/home/ubuntu/anaconda3/envs/pytorch_p36/lib/python3.6/site-packages/pandas/core/frame.py:3093: SettingWithCopyWarning: \n",
      "A value is trying to be set on a copy of a slice from a DataFrame\n",
      "\n",
      "See the caveats in the documentation: https://pandas.pydata.org/pandas-docs/stable/user_guide/indexing.html#returning-a-view-versus-a-copy\n",
      "  self._where(-key, value, inplace=True)\n"
     ]
    },
    {
     "name": "stdout",
     "output_type": "stream",
     "text": [
      "AU ROC Out1: 0.725\n",
      "AU PR Out1: 0.208\n",
      "AU ROC Out2: 0.840\n",
      "AU PR Out2: 0.349\n",
      "AU ROC Out12: 0.781\n",
      "AU PR Out12: 0.424\n",
      "##########################################\n"
     ]
    },
    {
     "name": "stderr",
     "output_type": "stream",
     "text": [
      "/home/ubuntu/anaconda3/envs/pytorch_p36/lib/python3.6/site-packages/ipykernel_launcher.py:22: SettingWithCopyWarning: \n",
      "A value is trying to be set on a copy of a slice from a DataFrame.\n",
      "Try using .loc[row_indexer,col_indexer] = value instead\n",
      "\n",
      "See the caveats in the documentation: https://pandas.pydata.org/pandas-docs/stable/user_guide/indexing.html#returning-a-view-versus-a-copy\n",
      "/home/ubuntu/anaconda3/envs/pytorch_p36/lib/python3.6/site-packages/pandas/core/frame.py:3093: SettingWithCopyWarning: \n",
      "A value is trying to be set on a copy of a slice from a DataFrame\n",
      "\n",
      "See the caveats in the documentation: https://pandas.pydata.org/pandas-docs/stable/user_guide/indexing.html#returning-a-view-versus-a-copy\n",
      "  self._where(-key, value, inplace=True)\n"
     ]
    },
    {
     "name": "stdout",
     "output_type": "stream",
     "text": [
      "AU ROC Out1: 0.673\n",
      "AU PR Out1: 0.185\n",
      "AU ROC Out2: 0.801\n",
      "AU PR Out2: 0.345\n",
      "AU ROC Out12: 0.736\n",
      "AU PR Out12: 0.415\n",
      "##########################################\n"
     ]
    },
    {
     "name": "stderr",
     "output_type": "stream",
     "text": [
      "/home/ubuntu/anaconda3/envs/pytorch_p36/lib/python3.6/site-packages/ipykernel_launcher.py:22: SettingWithCopyWarning: \n",
      "A value is trying to be set on a copy of a slice from a DataFrame.\n",
      "Try using .loc[row_indexer,col_indexer] = value instead\n",
      "\n",
      "See the caveats in the documentation: https://pandas.pydata.org/pandas-docs/stable/user_guide/indexing.html#returning-a-view-versus-a-copy\n",
      "/home/ubuntu/anaconda3/envs/pytorch_p36/lib/python3.6/site-packages/pandas/core/frame.py:3093: SettingWithCopyWarning: \n",
      "A value is trying to be set on a copy of a slice from a DataFrame\n",
      "\n",
      "See the caveats in the documentation: https://pandas.pydata.org/pandas-docs/stable/user_guide/indexing.html#returning-a-view-versus-a-copy\n",
      "  self._where(-key, value, inplace=True)\n"
     ]
    },
    {
     "name": "stdout",
     "output_type": "stream",
     "text": [
      "AU ROC Out1: 0.610\n",
      "AU PR Out1: 0.155\n",
      "AU ROC Out2: 0.806\n",
      "AU PR Out2: 0.330\n",
      "AU ROC Out12: 0.706\n",
      "AU PR Out12: 0.389\n",
      "##########################################\n"
     ]
    },
    {
     "name": "stderr",
     "output_type": "stream",
     "text": [
      "/home/ubuntu/anaconda3/envs/pytorch_p36/lib/python3.6/site-packages/ipykernel_launcher.py:22: SettingWithCopyWarning: \n",
      "A value is trying to be set on a copy of a slice from a DataFrame.\n",
      "Try using .loc[row_indexer,col_indexer] = value instead\n",
      "\n",
      "See the caveats in the documentation: https://pandas.pydata.org/pandas-docs/stable/user_guide/indexing.html#returning-a-view-versus-a-copy\n",
      "/home/ubuntu/anaconda3/envs/pytorch_p36/lib/python3.6/site-packages/pandas/core/frame.py:3093: SettingWithCopyWarning: \n",
      "A value is trying to be set on a copy of a slice from a DataFrame\n",
      "\n",
      "See the caveats in the documentation: https://pandas.pydata.org/pandas-docs/stable/user_guide/indexing.html#returning-a-view-versus-a-copy\n",
      "  self._where(-key, value, inplace=True)\n"
     ]
    },
    {
     "name": "stdout",
     "output_type": "stream",
     "text": [
      "AU ROC Out1: 0.718\n",
      "AU PR Out1: 0.742\n",
      "AU ROC Out2: 0.835\n",
      "AU PR Out2: 0.402\n",
      "AU ROC Out12: 0.730\n",
      "AU PR Out12: 0.774\n",
      "##########################################\n"
     ]
    },
    {
     "name": "stderr",
     "output_type": "stream",
     "text": [
      "/home/ubuntu/anaconda3/envs/pytorch_p36/lib/python3.6/site-packages/ipykernel_launcher.py:22: SettingWithCopyWarning: \n",
      "A value is trying to be set on a copy of a slice from a DataFrame.\n",
      "Try using .loc[row_indexer,col_indexer] = value instead\n",
      "\n",
      "See the caveats in the documentation: https://pandas.pydata.org/pandas-docs/stable/user_guide/indexing.html#returning-a-view-versus-a-copy\n",
      "/home/ubuntu/anaconda3/envs/pytorch_p36/lib/python3.6/site-packages/pandas/core/frame.py:3093: SettingWithCopyWarning: \n",
      "A value is trying to be set on a copy of a slice from a DataFrame\n",
      "\n",
      "See the caveats in the documentation: https://pandas.pydata.org/pandas-docs/stable/user_guide/indexing.html#returning-a-view-versus-a-copy\n",
      "  self._where(-key, value, inplace=True)\n"
     ]
    },
    {
     "name": "stdout",
     "output_type": "stream",
     "text": [
      "AU ROC Out1: 0.736\n",
      "AU PR Out1: 0.750\n",
      "AU ROC Out2: 0.848\n",
      "AU PR Out2: 0.426\n",
      "AU ROC Out12: 0.748\n",
      "AU PR Out12: 0.783\n",
      "##########################################\n"
     ]
    },
    {
     "name": "stderr",
     "output_type": "stream",
     "text": [
      "/home/ubuntu/anaconda3/envs/pytorch_p36/lib/python3.6/site-packages/ipykernel_launcher.py:22: SettingWithCopyWarning: \n",
      "A value is trying to be set on a copy of a slice from a DataFrame.\n",
      "Try using .loc[row_indexer,col_indexer] = value instead\n",
      "\n",
      "See the caveats in the documentation: https://pandas.pydata.org/pandas-docs/stable/user_guide/indexing.html#returning-a-view-versus-a-copy\n",
      "/home/ubuntu/anaconda3/envs/pytorch_p36/lib/python3.6/site-packages/pandas/core/frame.py:3093: SettingWithCopyWarning: \n",
      "A value is trying to be set on a copy of a slice from a DataFrame\n",
      "\n",
      "See the caveats in the documentation: https://pandas.pydata.org/pandas-docs/stable/user_guide/indexing.html#returning-a-view-versus-a-copy\n",
      "  self._where(-key, value, inplace=True)\n"
     ]
    },
    {
     "name": "stdout",
     "output_type": "stream",
     "text": [
      "AU ROC Out1: 0.712\n",
      "AU PR Out1: 0.733\n",
      "AU ROC Out2: 0.859\n",
      "AU PR Out2: 0.456\n",
      "AU ROC Out12: 0.727\n",
      "AU PR Out12: 0.772\n",
      "##########################################\n"
     ]
    },
    {
     "name": "stderr",
     "output_type": "stream",
     "text": [
      "/home/ubuntu/anaconda3/envs/pytorch_p36/lib/python3.6/site-packages/ipykernel_launcher.py:22: SettingWithCopyWarning: \n",
      "A value is trying to be set on a copy of a slice from a DataFrame.\n",
      "Try using .loc[row_indexer,col_indexer] = value instead\n",
      "\n",
      "See the caveats in the documentation: https://pandas.pydata.org/pandas-docs/stable/user_guide/indexing.html#returning-a-view-versus-a-copy\n",
      "/home/ubuntu/anaconda3/envs/pytorch_p36/lib/python3.6/site-packages/pandas/core/frame.py:3093: SettingWithCopyWarning: \n",
      "A value is trying to be set on a copy of a slice from a DataFrame\n",
      "\n",
      "See the caveats in the documentation: https://pandas.pydata.org/pandas-docs/stable/user_guide/indexing.html#returning-a-view-versus-a-copy\n",
      "  self._where(-key, value, inplace=True)\n"
     ]
    },
    {
     "name": "stdout",
     "output_type": "stream",
     "text": [
      "AU ROC Out1: 0.704\n",
      "AU PR Out1: 0.726\n",
      "AU ROC Out2: 0.841\n",
      "AU PR Out2: 0.406\n",
      "AU ROC Out12: 0.718\n",
      "AU PR Out12: 0.761\n",
      "##########################################\n"
     ]
    },
    {
     "name": "stderr",
     "output_type": "stream",
     "text": [
      "/home/ubuntu/anaconda3/envs/pytorch_p36/lib/python3.6/site-packages/ipykernel_launcher.py:22: SettingWithCopyWarning: \n",
      "A value is trying to be set on a copy of a slice from a DataFrame.\n",
      "Try using .loc[row_indexer,col_indexer] = value instead\n",
      "\n",
      "See the caveats in the documentation: https://pandas.pydata.org/pandas-docs/stable/user_guide/indexing.html#returning-a-view-versus-a-copy\n",
      "/home/ubuntu/anaconda3/envs/pytorch_p36/lib/python3.6/site-packages/pandas/core/frame.py:3093: SettingWithCopyWarning: \n",
      "A value is trying to be set on a copy of a slice from a DataFrame\n",
      "\n",
      "See the caveats in the documentation: https://pandas.pydata.org/pandas-docs/stable/user_guide/indexing.html#returning-a-view-versus-a-copy\n",
      "  self._where(-key, value, inplace=True)\n"
     ]
    },
    {
     "name": "stdout",
     "output_type": "stream",
     "text": [
      "AU ROC Out1: 0.722\n",
      "AU PR Out1: 0.756\n",
      "AU ROC Out2: 0.832\n",
      "AU PR Out2: 0.438\n",
      "AU ROC Out12: 0.733\n",
      "AU PR Out12: 0.788\n",
      "##########################################\n"
     ]
    },
    {
     "name": "stderr",
     "output_type": "stream",
     "text": [
      "/home/ubuntu/anaconda3/envs/pytorch_p36/lib/python3.6/site-packages/ipykernel_launcher.py:22: SettingWithCopyWarning: \n",
      "A value is trying to be set on a copy of a slice from a DataFrame.\n",
      "Try using .loc[row_indexer,col_indexer] = value instead\n",
      "\n",
      "See the caveats in the documentation: https://pandas.pydata.org/pandas-docs/stable/user_guide/indexing.html#returning-a-view-versus-a-copy\n",
      "/home/ubuntu/anaconda3/envs/pytorch_p36/lib/python3.6/site-packages/pandas/core/frame.py:3093: SettingWithCopyWarning: \n",
      "A value is trying to be set on a copy of a slice from a DataFrame\n",
      "\n",
      "See the caveats in the documentation: https://pandas.pydata.org/pandas-docs/stable/user_guide/indexing.html#returning-a-view-versus-a-copy\n",
      "  self._where(-key, value, inplace=True)\n",
      "/home/ubuntu/anaconda3/envs/pytorch_p36/lib/python3.6/site-packages/sklearn/ensemble/_iforest.py:266: UserWarning: max_samples (256) is greater than the total number of samples (243). max_samples will be set to n_samples for estimation.\n",
      "  % (self.max_samples, n_samples))\n"
     ]
    },
    {
     "name": "stdout",
     "output_type": "stream",
     "text": [
      "AU ROC Out1: 0.448\n",
      "AU PR Out1: 0.913\n",
      "AU ROC Out2: 0.735\n",
      "AU PR Out2: 0.566\n",
      "AU ROC Out12: 0.458\n",
      "AU PR Out12: 0.919\n",
      "##########################################\n"
     ]
    },
    {
     "name": "stderr",
     "output_type": "stream",
     "text": [
      "/home/ubuntu/anaconda3/envs/pytorch_p36/lib/python3.6/site-packages/ipykernel_launcher.py:22: SettingWithCopyWarning: \n",
      "A value is trying to be set on a copy of a slice from a DataFrame.\n",
      "Try using .loc[row_indexer,col_indexer] = value instead\n",
      "\n",
      "See the caveats in the documentation: https://pandas.pydata.org/pandas-docs/stable/user_guide/indexing.html#returning-a-view-versus-a-copy\n",
      "/home/ubuntu/anaconda3/envs/pytorch_p36/lib/python3.6/site-packages/pandas/core/frame.py:3093: SettingWithCopyWarning: \n",
      "A value is trying to be set on a copy of a slice from a DataFrame\n",
      "\n",
      "See the caveats in the documentation: https://pandas.pydata.org/pandas-docs/stable/user_guide/indexing.html#returning-a-view-versus-a-copy\n",
      "  self._where(-key, value, inplace=True)\n",
      "/home/ubuntu/anaconda3/envs/pytorch_p36/lib/python3.6/site-packages/sklearn/ensemble/_iforest.py:266: UserWarning: max_samples (256) is greater than the total number of samples (243). max_samples will be set to n_samples for estimation.\n",
      "  % (self.max_samples, n_samples))\n"
     ]
    },
    {
     "name": "stdout",
     "output_type": "stream",
     "text": [
      "AU ROC Out1: 0.472\n",
      "AU PR Out1: 0.916\n",
      "AU ROC Out2: 0.762\n",
      "AU PR Out2: 0.575\n",
      "AU ROC Out12: 0.482\n",
      "AU PR Out12: 0.922\n",
      "##########################################\n"
     ]
    },
    {
     "name": "stderr",
     "output_type": "stream",
     "text": [
      "/home/ubuntu/anaconda3/envs/pytorch_p36/lib/python3.6/site-packages/ipykernel_launcher.py:22: SettingWithCopyWarning: \n",
      "A value is trying to be set on a copy of a slice from a DataFrame.\n",
      "Try using .loc[row_indexer,col_indexer] = value instead\n",
      "\n",
      "See the caveats in the documentation: https://pandas.pydata.org/pandas-docs/stable/user_guide/indexing.html#returning-a-view-versus-a-copy\n",
      "/home/ubuntu/anaconda3/envs/pytorch_p36/lib/python3.6/site-packages/pandas/core/frame.py:3093: SettingWithCopyWarning: \n",
      "A value is trying to be set on a copy of a slice from a DataFrame\n",
      "\n",
      "See the caveats in the documentation: https://pandas.pydata.org/pandas-docs/stable/user_guide/indexing.html#returning-a-view-versus-a-copy\n",
      "  self._where(-key, value, inplace=True)\n",
      "/home/ubuntu/anaconda3/envs/pytorch_p36/lib/python3.6/site-packages/sklearn/ensemble/_iforest.py:266: UserWarning: max_samples (256) is greater than the total number of samples (243). max_samples will be set to n_samples for estimation.\n",
      "  % (self.max_samples, n_samples))\n"
     ]
    },
    {
     "name": "stdout",
     "output_type": "stream",
     "text": [
      "AU ROC Out1: 0.490\n",
      "AU PR Out1: 0.919\n",
      "AU ROC Out2: 0.731\n",
      "AU PR Out2: 0.552\n",
      "AU ROC Out12: 0.498\n",
      "AU PR Out12: 0.924\n",
      "##########################################\n"
     ]
    },
    {
     "name": "stderr",
     "output_type": "stream",
     "text": [
      "/home/ubuntu/anaconda3/envs/pytorch_p36/lib/python3.6/site-packages/ipykernel_launcher.py:22: SettingWithCopyWarning: \n",
      "A value is trying to be set on a copy of a slice from a DataFrame.\n",
      "Try using .loc[row_indexer,col_indexer] = value instead\n",
      "\n",
      "See the caveats in the documentation: https://pandas.pydata.org/pandas-docs/stable/user_guide/indexing.html#returning-a-view-versus-a-copy\n",
      "/home/ubuntu/anaconda3/envs/pytorch_p36/lib/python3.6/site-packages/pandas/core/frame.py:3093: SettingWithCopyWarning: \n",
      "A value is trying to be set on a copy of a slice from a DataFrame\n",
      "\n",
      "See the caveats in the documentation: https://pandas.pydata.org/pandas-docs/stable/user_guide/indexing.html#returning-a-view-versus-a-copy\n",
      "  self._where(-key, value, inplace=True)\n",
      "/home/ubuntu/anaconda3/envs/pytorch_p36/lib/python3.6/site-packages/sklearn/ensemble/_iforest.py:266: UserWarning: max_samples (256) is greater than the total number of samples (243). max_samples will be set to n_samples for estimation.\n",
      "  % (self.max_samples, n_samples))\n"
     ]
    },
    {
     "name": "stdout",
     "output_type": "stream",
     "text": [
      "AU ROC Out1: 0.478\n",
      "AU PR Out1: 0.916\n",
      "AU ROC Out2: 0.750\n",
      "AU PR Out2: 0.572\n",
      "AU ROC Out12: 0.487\n",
      "AU PR Out12: 0.922\n",
      "##########################################\n"
     ]
    },
    {
     "name": "stderr",
     "output_type": "stream",
     "text": [
      "/home/ubuntu/anaconda3/envs/pytorch_p36/lib/python3.6/site-packages/ipykernel_launcher.py:22: SettingWithCopyWarning: \n",
      "A value is trying to be set on a copy of a slice from a DataFrame.\n",
      "Try using .loc[row_indexer,col_indexer] = value instead\n",
      "\n",
      "See the caveats in the documentation: https://pandas.pydata.org/pandas-docs/stable/user_guide/indexing.html#returning-a-view-versus-a-copy\n",
      "/home/ubuntu/anaconda3/envs/pytorch_p36/lib/python3.6/site-packages/pandas/core/frame.py:3093: SettingWithCopyWarning: \n",
      "A value is trying to be set on a copy of a slice from a DataFrame\n",
      "\n",
      "See the caveats in the documentation: https://pandas.pydata.org/pandas-docs/stable/user_guide/indexing.html#returning-a-view-versus-a-copy\n",
      "  self._where(-key, value, inplace=True)\n",
      "/home/ubuntu/anaconda3/envs/pytorch_p36/lib/python3.6/site-packages/sklearn/ensemble/_iforest.py:266: UserWarning: max_samples (256) is greater than the total number of samples (243). max_samples will be set to n_samples for estimation.\n",
      "  % (self.max_samples, n_samples))\n"
     ]
    },
    {
     "name": "stdout",
     "output_type": "stream",
     "text": [
      "AU ROC Out1: 0.497\n",
      "AU PR Out1: 0.920\n",
      "AU ROC Out2: 0.699\n",
      "AU PR Out2: 0.552\n",
      "AU ROC Out12: 0.504\n",
      "AU PR Out12: 0.925\n",
      "##########################################\n"
     ]
    },
    {
     "name": "stderr",
     "output_type": "stream",
     "text": [
      "/home/ubuntu/anaconda3/envs/pytorch_p36/lib/python3.6/site-packages/ipykernel_launcher.py:22: SettingWithCopyWarning: \n",
      "A value is trying to be set on a copy of a slice from a DataFrame.\n",
      "Try using .loc[row_indexer,col_indexer] = value instead\n",
      "\n",
      "See the caveats in the documentation: https://pandas.pydata.org/pandas-docs/stable/user_guide/indexing.html#returning-a-view-versus-a-copy\n",
      "/home/ubuntu/anaconda3/envs/pytorch_p36/lib/python3.6/site-packages/pandas/core/frame.py:3093: SettingWithCopyWarning: \n",
      "A value is trying to be set on a copy of a slice from a DataFrame\n",
      "\n",
      "See the caveats in the documentation: https://pandas.pydata.org/pandas-docs/stable/user_guide/indexing.html#returning-a-view-versus-a-copy\n",
      "  self._where(-key, value, inplace=True)\n"
     ]
    },
    {
     "name": "stdout",
     "output_type": "stream",
     "text": [
      "AU ROC Out1: 0.541\n",
      "AU PR Out1: 0.278\n",
      "AU ROC Out2: 0.827\n",
      "AU PR Out2: 0.376\n",
      "AU ROC Out12: 0.629\n",
      "AU PR Out12: 0.448\n",
      "##########################################\n"
     ]
    },
    {
     "name": "stderr",
     "output_type": "stream",
     "text": [
      "/home/ubuntu/anaconda3/envs/pytorch_p36/lib/python3.6/site-packages/ipykernel_launcher.py:22: SettingWithCopyWarning: \n",
      "A value is trying to be set on a copy of a slice from a DataFrame.\n",
      "Try using .loc[row_indexer,col_indexer] = value instead\n",
      "\n",
      "See the caveats in the documentation: https://pandas.pydata.org/pandas-docs/stable/user_guide/indexing.html#returning-a-view-versus-a-copy\n",
      "/home/ubuntu/anaconda3/envs/pytorch_p36/lib/python3.6/site-packages/pandas/core/frame.py:3093: SettingWithCopyWarning: \n",
      "A value is trying to be set on a copy of a slice from a DataFrame\n",
      "\n",
      "See the caveats in the documentation: https://pandas.pydata.org/pandas-docs/stable/user_guide/indexing.html#returning-a-view-versus-a-copy\n",
      "  self._where(-key, value, inplace=True)\n"
     ]
    },
    {
     "name": "stdout",
     "output_type": "stream",
     "text": [
      "AU ROC Out1: 0.545\n",
      "AU PR Out1: 0.271\n",
      "AU ROC Out2: 0.807\n",
      "AU PR Out2: 0.335\n",
      "AU ROC Out12: 0.626\n",
      "AU PR Out12: 0.428\n",
      "##########################################\n"
     ]
    },
    {
     "name": "stderr",
     "output_type": "stream",
     "text": [
      "/home/ubuntu/anaconda3/envs/pytorch_p36/lib/python3.6/site-packages/ipykernel_launcher.py:22: SettingWithCopyWarning: \n",
      "A value is trying to be set on a copy of a slice from a DataFrame.\n",
      "Try using .loc[row_indexer,col_indexer] = value instead\n",
      "\n",
      "See the caveats in the documentation: https://pandas.pydata.org/pandas-docs/stable/user_guide/indexing.html#returning-a-view-versus-a-copy\n",
      "/home/ubuntu/anaconda3/envs/pytorch_p36/lib/python3.6/site-packages/pandas/core/frame.py:3093: SettingWithCopyWarning: \n",
      "A value is trying to be set on a copy of a slice from a DataFrame\n",
      "\n",
      "See the caveats in the documentation: https://pandas.pydata.org/pandas-docs/stable/user_guide/indexing.html#returning-a-view-versus-a-copy\n",
      "  self._where(-key, value, inplace=True)\n"
     ]
    },
    {
     "name": "stdout",
     "output_type": "stream",
     "text": [
      "AU ROC Out1: 0.536\n",
      "AU PR Out1: 0.266\n",
      "AU ROC Out2: 0.807\n",
      "AU PR Out2: 0.359\n",
      "AU ROC Out12: 0.615\n",
      "AU PR Out12: 0.430\n",
      "##########################################\n"
     ]
    },
    {
     "name": "stderr",
     "output_type": "stream",
     "text": [
      "/home/ubuntu/anaconda3/envs/pytorch_p36/lib/python3.6/site-packages/ipykernel_launcher.py:22: SettingWithCopyWarning: \n",
      "A value is trying to be set on a copy of a slice from a DataFrame.\n",
      "Try using .loc[row_indexer,col_indexer] = value instead\n",
      "\n",
      "See the caveats in the documentation: https://pandas.pydata.org/pandas-docs/stable/user_guide/indexing.html#returning-a-view-versus-a-copy\n",
      "/home/ubuntu/anaconda3/envs/pytorch_p36/lib/python3.6/site-packages/pandas/core/frame.py:3093: SettingWithCopyWarning: \n",
      "A value is trying to be set on a copy of a slice from a DataFrame\n",
      "\n",
      "See the caveats in the documentation: https://pandas.pydata.org/pandas-docs/stable/user_guide/indexing.html#returning-a-view-versus-a-copy\n",
      "  self._where(-key, value, inplace=True)\n"
     ]
    },
    {
     "name": "stdout",
     "output_type": "stream",
     "text": [
      "AU ROC Out1: 0.540\n",
      "AU PR Out1: 0.271\n",
      "AU ROC Out2: 0.798\n",
      "AU PR Out2: 0.300\n",
      "AU ROC Out12: 0.620\n",
      "AU PR Out12: 0.416\n",
      "##########################################\n"
     ]
    },
    {
     "name": "stderr",
     "output_type": "stream",
     "text": [
      "/home/ubuntu/anaconda3/envs/pytorch_p36/lib/python3.6/site-packages/ipykernel_launcher.py:22: SettingWithCopyWarning: \n",
      "A value is trying to be set on a copy of a slice from a DataFrame.\n",
      "Try using .loc[row_indexer,col_indexer] = value instead\n",
      "\n",
      "See the caveats in the documentation: https://pandas.pydata.org/pandas-docs/stable/user_guide/indexing.html#returning-a-view-versus-a-copy\n",
      "/home/ubuntu/anaconda3/envs/pytorch_p36/lib/python3.6/site-packages/pandas/core/frame.py:3093: SettingWithCopyWarning: \n",
      "A value is trying to be set on a copy of a slice from a DataFrame\n",
      "\n",
      "See the caveats in the documentation: https://pandas.pydata.org/pandas-docs/stable/user_guide/indexing.html#returning-a-view-versus-a-copy\n",
      "  self._where(-key, value, inplace=True)\n"
     ]
    },
    {
     "name": "stdout",
     "output_type": "stream",
     "text": [
      "AU ROC Out1: 0.529\n",
      "AU PR Out1: 0.265\n",
      "AU ROC Out2: 0.804\n",
      "AU PR Out2: 0.335\n",
      "AU ROC Out12: 0.614\n",
      "AU PR Out12: 0.422\n",
      "##########################################\n"
     ]
    }
   ],
   "source": [
    "hierClass = 'Transient'\n",
    "outliers = ['SLSN',\n",
    "            'SNII',\n",
    "            'SNIa',\n",
    "            'SNIbc']\n",
    "\n",
    "for outlier in outliers:\n",
    "    for run in range(5):\n",
    "        directory = 'results/{}_{}_run{}'.format(hierClass, outlier, run)\n",
    "        if not os.path.exists(directory):\n",
    "            os.makedirs(directory)\n",
    "        plots_dir = '{}/plots'.format(directory)\n",
    "        if not os.path.exists(plots_dir):\n",
    "            os.makedirs(plots_dir)\n",
    "        \n",
    "        train_features, test_features, test_labels = get_data(hierClass, outlier)\n",
    "        model = train(hierClass, outlier, train_features, directory)\n",
    "        test(model, test_features, test_labels, directory)"
   ]
  },
  {
   "cell_type": "markdown",
   "metadata": {},
   "source": [
    "## Stochastic Experiments"
   ]
  },
  {
   "cell_type": "code",
   "execution_count": null,
   "metadata": {},
   "outputs": [
    {
     "name": "stderr",
     "output_type": "stream",
     "text": [
      "/home/ubuntu/anaconda3/envs/pytorch_p36/lib/python3.6/site-packages/ipykernel_launcher.py:22: SettingWithCopyWarning: \n",
      "A value is trying to be set on a copy of a slice from a DataFrame.\n",
      "Try using .loc[row_indexer,col_indexer] = value instead\n",
      "\n",
      "See the caveats in the documentation: https://pandas.pydata.org/pandas-docs/stable/user_guide/indexing.html#returning-a-view-versus-a-copy\n",
      "/home/ubuntu/anaconda3/envs/pytorch_p36/lib/python3.6/site-packages/pandas/core/frame.py:3093: SettingWithCopyWarning: \n",
      "A value is trying to be set on a copy of a slice from a DataFrame\n",
      "\n",
      "See the caveats in the documentation: https://pandas.pydata.org/pandas-docs/stable/user_guide/indexing.html#returning-a-view-versus-a-copy\n",
      "  self._where(-key, value, inplace=True)\n"
     ]
    },
    {
     "name": "stdout",
     "output_type": "stream",
     "text": [
      "AU ROC Out1: 0.589\n",
      "AU PR Out1: 0.437\n",
      "AU ROC Out2: 0.860\n",
      "AU PR Out2: 0.023\n",
      "AU ROC Out12: 0.591\n",
      "AU PR Out12: 0.442\n",
      "##########################################\n"
     ]
    },
    {
     "name": "stderr",
     "output_type": "stream",
     "text": [
      "/home/ubuntu/anaconda3/envs/pytorch_p36/lib/python3.6/site-packages/ipykernel_launcher.py:22: SettingWithCopyWarning: \n",
      "A value is trying to be set on a copy of a slice from a DataFrame.\n",
      "Try using .loc[row_indexer,col_indexer] = value instead\n",
      "\n",
      "See the caveats in the documentation: https://pandas.pydata.org/pandas-docs/stable/user_guide/indexing.html#returning-a-view-versus-a-copy\n",
      "/home/ubuntu/anaconda3/envs/pytorch_p36/lib/python3.6/site-packages/pandas/core/frame.py:3093: SettingWithCopyWarning: \n",
      "A value is trying to be set on a copy of a slice from a DataFrame\n",
      "\n",
      "See the caveats in the documentation: https://pandas.pydata.org/pandas-docs/stable/user_guide/indexing.html#returning-a-view-versus-a-copy\n",
      "  self._where(-key, value, inplace=True)\n"
     ]
    },
    {
     "name": "stdout",
     "output_type": "stream",
     "text": [
      "AU ROC Out1: 0.615\n",
      "AU PR Out1: 0.453\n",
      "AU ROC Out2: 0.858\n",
      "AU PR Out2: 0.022\n",
      "AU ROC Out12: 0.617\n",
      "AU PR Out12: 0.458\n",
      "##########################################\n"
     ]
    },
    {
     "name": "stderr",
     "output_type": "stream",
     "text": [
      "/home/ubuntu/anaconda3/envs/pytorch_p36/lib/python3.6/site-packages/ipykernel_launcher.py:22: SettingWithCopyWarning: \n",
      "A value is trying to be set on a copy of a slice from a DataFrame.\n",
      "Try using .loc[row_indexer,col_indexer] = value instead\n",
      "\n",
      "See the caveats in the documentation: https://pandas.pydata.org/pandas-docs/stable/user_guide/indexing.html#returning-a-view-versus-a-copy\n",
      "/home/ubuntu/anaconda3/envs/pytorch_p36/lib/python3.6/site-packages/pandas/core/frame.py:3093: SettingWithCopyWarning: \n",
      "A value is trying to be set on a copy of a slice from a DataFrame\n",
      "\n",
      "See the caveats in the documentation: https://pandas.pydata.org/pandas-docs/stable/user_guide/indexing.html#returning-a-view-versus-a-copy\n",
      "  self._where(-key, value, inplace=True)\n"
     ]
    },
    {
     "name": "stdout",
     "output_type": "stream",
     "text": [
      "AU ROC Out1: 0.589\n",
      "AU PR Out1: 0.438\n",
      "AU ROC Out2: 0.866\n",
      "AU PR Out2: 0.023\n",
      "AU ROC Out12: 0.591\n",
      "AU PR Out12: 0.442\n",
      "##########################################\n"
     ]
    },
    {
     "name": "stderr",
     "output_type": "stream",
     "text": [
      "/home/ubuntu/anaconda3/envs/pytorch_p36/lib/python3.6/site-packages/ipykernel_launcher.py:22: SettingWithCopyWarning: \n",
      "A value is trying to be set on a copy of a slice from a DataFrame.\n",
      "Try using .loc[row_indexer,col_indexer] = value instead\n",
      "\n",
      "See the caveats in the documentation: https://pandas.pydata.org/pandas-docs/stable/user_guide/indexing.html#returning-a-view-versus-a-copy\n",
      "/home/ubuntu/anaconda3/envs/pytorch_p36/lib/python3.6/site-packages/pandas/core/frame.py:3093: SettingWithCopyWarning: \n",
      "A value is trying to be set on a copy of a slice from a DataFrame\n",
      "\n",
      "See the caveats in the documentation: https://pandas.pydata.org/pandas-docs/stable/user_guide/indexing.html#returning-a-view-versus-a-copy\n",
      "  self._where(-key, value, inplace=True)\n"
     ]
    },
    {
     "name": "stdout",
     "output_type": "stream",
     "text": [
      "AU ROC Out1: 0.600\n",
      "AU PR Out1: 0.444\n",
      "AU ROC Out2: 0.878\n",
      "AU PR Out2: 0.028\n",
      "AU ROC Out12: 0.602\n",
      "AU PR Out12: 0.449\n",
      "##########################################\n"
     ]
    },
    {
     "name": "stderr",
     "output_type": "stream",
     "text": [
      "/home/ubuntu/anaconda3/envs/pytorch_p36/lib/python3.6/site-packages/ipykernel_launcher.py:22: SettingWithCopyWarning: \n",
      "A value is trying to be set on a copy of a slice from a DataFrame.\n",
      "Try using .loc[row_indexer,col_indexer] = value instead\n",
      "\n",
      "See the caveats in the documentation: https://pandas.pydata.org/pandas-docs/stable/user_guide/indexing.html#returning-a-view-versus-a-copy\n",
      "/home/ubuntu/anaconda3/envs/pytorch_p36/lib/python3.6/site-packages/pandas/core/frame.py:3093: SettingWithCopyWarning: \n",
      "A value is trying to be set on a copy of a slice from a DataFrame\n",
      "\n",
      "See the caveats in the documentation: https://pandas.pydata.org/pandas-docs/stable/user_guide/indexing.html#returning-a-view-versus-a-copy\n",
      "  self._where(-key, value, inplace=True)\n"
     ]
    },
    {
     "name": "stdout",
     "output_type": "stream",
     "text": [
      "AU ROC Out1: 0.597\n",
      "AU PR Out1: 0.445\n",
      "AU ROC Out2: 0.879\n",
      "AU PR Out2: 0.026\n",
      "AU ROC Out12: 0.600\n",
      "AU PR Out12: 0.450\n",
      "##########################################\n"
     ]
    },
    {
     "name": "stderr",
     "output_type": "stream",
     "text": [
      "/home/ubuntu/anaconda3/envs/pytorch_p36/lib/python3.6/site-packages/ipykernel_launcher.py:22: SettingWithCopyWarning: \n",
      "A value is trying to be set on a copy of a slice from a DataFrame.\n",
      "Try using .loc[row_indexer,col_indexer] = value instead\n",
      "\n",
      "See the caveats in the documentation: https://pandas.pydata.org/pandas-docs/stable/user_guide/indexing.html#returning-a-view-versus-a-copy\n",
      "/home/ubuntu/anaconda3/envs/pytorch_p36/lib/python3.6/site-packages/pandas/core/frame.py:3093: SettingWithCopyWarning: \n",
      "A value is trying to be set on a copy of a slice from a DataFrame\n",
      "\n",
      "See the caveats in the documentation: https://pandas.pydata.org/pandas-docs/stable/user_guide/indexing.html#returning-a-view-versus-a-copy\n",
      "  self._where(-key, value, inplace=True)\n"
     ]
    }
   ],
   "source": [
    "hierClass = 'Stochastic'\n",
    "outliers = ['AGN',\n",
    "            'Blazar',\n",
    "            'CV/Nova',\n",
    "            'QSO',\n",
    "            'YSO']\n",
    "\n",
    "for outlier in outliers:\n",
    "    for run in range(5):\n",
    "        directory = 'results/{}_{}_run{}'.format(hierClass, outlier, run)\n",
    "        if not os.path.exists(directory):\n",
    "            os.makedirs(directory)\n",
    "        plots_dir = '{}/plots'.format(directory)\n",
    "        if not os.path.exists(plots_dir):\n",
    "            os.makedirs(plots_dir)\n",
    "        \n",
    "        train_features, test_features, test_labels = get_data(hierClass, outlier)\n",
    "        model = train(hierClass, outlier, train_features, directory)\n",
    "        test(model, test_features, test_labels, directory)"
   ]
  },
  {
   "cell_type": "markdown",
   "metadata": {},
   "source": [
    "## Periodic Experiments"
   ]
  },
  {
   "cell_type": "code",
   "execution_count": null,
   "metadata": {},
   "outputs": [],
   "source": [
    "hierClass = 'Periodic'\n",
    "outliers = ['CEP',\n",
    "            'DSCT',\n",
    "            'E',\n",
    "            'RRL',\n",
    "            'LPV']\n",
    "\n",
    "\n",
    "for outlier in outliers:\n",
    "    for run in range(5):\n",
    "        directory = 'results/{}_{}_run{}'.format(hierClass, outlier, run)\n",
    "        if not os.path.exists(directory):\n",
    "            os.makedirs(directory)\n",
    "        plots_dir = '{}/plots'.format(directory)\n",
    "        if not os.path.exists(plots_dir):\n",
    "            os.makedirs(plots_dir)\n",
    "        \n",
    "        train_features, test_features, test_labels = get_data(hierClass, outlier)\n",
    "        model = train(hierClass, outlier, train_features, directory)\n",
    "        test(model, test_features, test_labels, directory)"
   ]
  },
  {
   "cell_type": "code",
   "execution_count": null,
   "metadata": {},
   "outputs": [],
   "source": []
  },
  {
   "cell_type": "code",
   "execution_count": null,
   "metadata": {},
   "outputs": [],
   "source": []
  }
 ],
 "metadata": {
  "kernelspec": {
   "display_name": "Python 3",
   "language": "python",
   "name": "python3"
  },
  "language_info": {
   "codemirror_mode": {
    "name": "ipython",
    "version": 3
   },
   "file_extension": ".py",
   "mimetype": "text/x-python",
   "name": "python",
   "nbconvert_exporter": "python",
   "pygments_lexer": "ipython3",
   "version": "3.6.13"
  }
 },
 "nbformat": 4,
 "nbformat_minor": 2
}
