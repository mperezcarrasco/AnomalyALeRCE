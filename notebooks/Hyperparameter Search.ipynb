{
 "cells": [
  {
   "cell_type": "code",
   "execution_count": 8,
   "id": "limited-mouse",
   "metadata": {},
   "outputs": [],
   "source": [
    "import matplotlib.pyplot as plt\n",
    "import numpy as np\n",
    "import json, glob"
   ]
  },
  {
   "cell_type": "code",
   "execution_count": 12,
   "id": "automatic-lightweight",
   "metadata": {},
   "outputs": [],
   "source": [
    "model = 'ae'\n",
    "hierClass = 'Transient'\n",
    "outlier = 'none'"
   ]
  },
  {
   "cell_type": "code",
   "execution_count": 13,
   "id": "employed-accessory",
   "metadata": {},
   "outputs": [],
   "source": [
    "lrs = [0.001 , 0.0005, 0.0001, 0.00005]\n",
    "z_dims = [128]\n",
    "metrics = []\n",
    "metrics_e = []\n",
    "\n",
    "for z_dim in z_dims:\n",
    "    recs = []\n",
    "    recs_e = []\n",
    "    for lr in lrs:\n",
    "        rec = []\n",
    "        for fold in range(5):\n",
    "            job_name = './experiments/{}_{}_lr{}_ld{}_fold{}'.format(model, hierClass, lr, z_dim, fold)\n",
    "            json_file = '{}/metrics_val.json'.format(job_name)\n",
    "            data = json.load(open(json_file))\n",
    "            rec.append(data)\n",
    "        recs.append(np.mean(rec))\n",
    "        recs_e.append(np.std(rec))\n",
    "    metrics.append(recs)\n",
    "    metrics_e.append(recs_e)"
   ]
  },
  {
   "cell_type": "code",
   "execution_count": 14,
   "id": "headed-portsmouth",
   "metadata": {},
   "outputs": [
    {
     "data": {
      "image/png": "[encoded data removed]",
      "text/plain": [
       "<Figure size 432x288 with 1 Axes>"
      ]
     },
     "metadata": {
      "needs_background": "light"
     },
     "output_type": "display_data"
    }
   ],
   "source": [
    "for i in range(len(z_dims)):\n",
    "    plt.errorbar(lrs, metrics[i], yerr=metrics_e[i], fmt='--', label=z_dims[i])\n",
    "plt.legend()\n",
    "plt.grid()\n",
    "plt.show()"
   ]
  },
  {
   "cell_type": "code",
   "execution_count": null,
   "id": "automated-dublin",
   "metadata": {},
   "outputs": [],
   "source": []
  },
  {
   "cell_type": "code",
   "execution_count": null,
   "id": "dynamic-choice",
   "metadata": {},
   "outputs": [],
   "source": []
  }
 ],
 "metadata": {
  "kernelspec": {
   "display_name": "Python 3",
   "language": "python",
   "name": "python3"
  },
  "language_info": {
   "codemirror_mode": {
    "name": "ipython",
    "version": 3
   },
   "file_extension": ".py",
   "mimetype": "text/x-python",
   "name": "python",
   "nbconvert_exporter": "python",
   "pygments_lexer": "ipython3",
   "version": "3.6.13"
  }
 },
 "nbformat": 4,
 "nbformat_minor": 5
}
