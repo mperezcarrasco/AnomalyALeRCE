{
 "cells": [
  {
   "cell_type": "code",
   "execution_count": 1,
   "metadata": {},
   "outputs": [],
   "source": [
    "import pandas as pd"
   ]
  },
  {
   "cell_type": "code",
   "execution_count": 2,
   "metadata": {},
   "outputs": [],
   "source": [
    "# we first needed the data filtered in order to train the late classifier and the late classifiers for the test set.\n",
    "\n",
    "train_data = pd.read_pickle('../data/train_data_not_filtered.pkl')\n",
    "test_data = pd.read_pickle('../data/test_data_not_filtered.pkl')"
   ]
  },
  {
   "cell_type": "code",
   "execution_count": null,
   "metadata": {},
   "outputs": [],
   "source": [
    "train_data = train_data[(train_data['n_det_1']>=6) & (train_data['n_det_2']>=6)]\n",
    "test_data = test_data[(test_data['n_det_1']>=6) & (test_data['n_det_2']>=6)]\n",
    "train_data = train_data[((train_data.hierClass=='Transient') & (train_data.flag_reference_change==False) & (train_data.flag_diffpos==True)) | \n",
    "                        ((train_data.hierClass=='Periodic') & (train_data.flag_corrected_g==True) & (train_data.flag_corrected_r==True)& (train_data.flag_ndubious_g<1) & (train_data.flag_ndubious_r<1)) | \n",
    "                        ((train_data.hierClass=='Stochastic') & (train_data.flag_corrected_g==True) & (train_data.flag_corrected_r==True)& (train_data.flag_ndubious_g<1) & (train_data.flag_ndubious_r<1))]\n",
    "test_data = test_data[((test_data.hierClass=='Transient') & (test_data.flag_reference_change==False) & (test_data.flag_diffpos==True)) | \n",
    "                      ((test_data.hierClass=='Periodic') & (test_data.flag_corrected_g==True) & (test_data.flag_corrected_r==True)& (test_data.flag_ndubious_g<1) & (test_data.flag_ndubious_r<1)) | \n",
    "                      ((test_data.hierClass=='Stochastic') & (test_data.flag_corrected_g==True) & (test_data.flag_corrected_r==True)& (test_data.flag_ndubious_g<1) & (test_data.flag_ndubious_r<1))]\n"
   ]
  },
  {
   "cell_type": "code",
   "execution_count": null,
   "metadata": {},
   "outputs": [],
   "source": [
    "train_data.to_pickle('../data/train_data.pkl')\n",
    "test_data.to_pickle('../data/test_data.pkl')"
   ]
  },
  {
   "cell_type": "code",
   "execution_count": 35,
   "metadata": {},
   "outputs": [
    {
     "data": {
      "image/png": "[encoded data removed]",
      "text/plain": [
       "<Figure size 432x288 with 1 Axes>"
      ]
     },
     "metadata": {},
     "output_type": "display_data"
    }
   ],
   "source": [
    "import matplotlib.pyplot as plt\n",
    "class_, number = np.unique(data_train.classALeRCE, return_counts=True)\n",
    "\n",
    "plt.bar(class_, number, color='purple')\n",
    "plt.xticks(rotation=90)\n",
    "plt.show()"
   ]
  },
  {
   "cell_type": "code",
   "execution_count": null,
   "metadata": {},
   "outputs": [],
   "source": []
  }
 ],
 "metadata": {
  "kernelspec": {
   "display_name": "Python 3",
   "language": "python",
   "name": "python3"
  },
  "language_info": {
   "codemirror_mode": {
    "name": "ipython",
    "version": 3
   },
   "file_extension": ".py",
   "mimetype": "text/x-python",
   "name": "python",
   "nbconvert_exporter": "python",
   "pygments_lexer": "ipython3",
   "version": "3.6.7"
  }
 },
 "nbformat": 4,
 "nbformat_minor": 2
}
