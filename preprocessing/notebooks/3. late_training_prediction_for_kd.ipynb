{
 "cells": [
  {
   "cell_type": "code",
   "execution_count": 1,
   "metadata": {},
   "outputs": [],
   "source": [
    "import numpy as np\n",
    "import pandas as pd\n",
    "from sklearn import preprocessing, model_selection, metrics, ensemble\n",
    "import pickle\n",
    "import itertools\n",
    "import matplotlib.pyplot as plt\n",
    "from collections import Counter\n",
    "from imblearn.ensemble import BalancedRandomForestClassifier as RandomForestClassifier\n",
    "from scipy.stats import randint as sp_randint\n",
    "from sklearn.utils import class_weight"
   ]
  },
  {
   "cell_type": "markdown",
   "metadata": {},
   "source": [
    "  # Outlier:"
   ]
  },
  {
   "cell_type": "code",
   "execution_count": 2,
   "metadata": {},
   "outputs": [],
   "source": [
    "classes = ['CEP',\n",
    "           'DSCT',\n",
    "           'E',\n",
    "           'RRL',\n",
    "           'LPV',\n",
    "           'SLSN',\n",
    "           'SNII',\n",
    "           'SNIa',\n",
    "           'SNIbc',\n",
    "           'AGN',\n",
    "           'Blazar',\n",
    "           'CV/Nova',\n",
    "           'QSO',\n",
    "           'YSO']\n",
    "\n",
    "outlier_index=13\n",
    "outlier = classes[outlier_index]"
   ]
  },
  {
   "cell_type": "markdown",
   "metadata": {},
   "source": [
    "### reading the training set files "
   ]
  },
  {
   "cell_type": "code",
   "execution_count": 3,
   "metadata": {},
   "outputs": [],
   "source": [
    "unlabeled_dataset = pd.read_csv('data/unlabeled_dataset.csv')\n",
    "train_set = pd.read_pickle('data/train_data_not_filtered.pkl').fillna(-999)\n",
    "test_set = pd.read_pickle('data/test_data_not_filtered.pkl').fillna(-999)"
   ]
  },
  {
   "cell_type": "code",
   "execution_count": 4,
   "metadata": {},
   "outputs": [],
   "source": [
    "features = pd.read_pickle('features_RF_model.pkl')"
   ]
  },
  {
   "cell_type": "code",
   "execution_count": 5,
   "metadata": {},
   "outputs": [
    {
     "name": "stdout",
     "output_type": "stream",
     "text": [
      "['AGN' 'Blazar' 'CEP' 'CV/Nova' 'DSCT' 'E' 'LPV' 'QSO' 'RRL' 'SLSN' 'SNII'\n",
      " 'SNIa' 'SNIbc']\n"
     ]
    }
   ],
   "source": [
    "train_set = train_set[(train_set['classALeRCE']!=outlier)]\n",
    "test_set = test_set[(test_set['classALeRCE']!=outlier)]\n",
    "\n",
    "\n",
    "print(np.unique(train_set.classALeRCE))"
   ]
  },
  {
   "cell_type": "markdown",
   "metadata": {},
   "source": [
    "  ### Defining functions to plot the confusion matrix and the feature importance"
   ]
  },
  {
   "cell_type": "code",
   "execution_count": 6,
   "metadata": {},
   "outputs": [],
   "source": [
    "def plot_confusion_matrix(cm, classes,\n",
    "                          normalize=True,\n",
    "                          title=None,\n",
    "                          cmap=plt.cm.Blues):\n",
    "    \"\"\"\n",
    "    This function prints and plots the confusion matrix.\n",
    "    Normalization can be applied by setting `normalize=True`.\n",
    "    \"\"\"\n",
    "    if normalize:\n",
    "        cm = np.round((cm.astype('float') / cm.sum(axis=1)[:, np.newaxis])*100)\n",
    "        print(\"Normalized confusion matrix\")\n",
    "    else:\n",
    "        print('Confusion matrix, without normalization')\n",
    "    \n",
    "    \n",
    "    print(cm)\n",
    "\n",
    "    fig, ax = plt.subplots(figsize=(12, 10))\n",
    "    plt.imshow(cm, interpolation='nearest', cmap=cmap)\n",
    "    plt.title(title)\n",
    "    #plt.colorbar()\n",
    "    tick_marks = np.arange(len(classes))\n",
    "    plt.xticks(tick_marks, classes, rotation=45, fontsize = 17)\n",
    "    plt.yticks(tick_marks, classes, fontsize = 17)\n",
    "\n",
    "    #fmt = '.2f' if normalize else 'd'\n",
    "    fmt =  'd'\n",
    "    thresh = cm.max() / 2.\n",
    "    for i, j in itertools.product(range(cm.shape[0]), range(cm.shape[1])):\n",
    "        plt.text(j, i, \"%d\"%  (cm[i, j]),\n",
    "                 horizontalalignment=\"center\",\n",
    "                 color=\"white\" if cm[i, j] > thresh else \"black\",fontsize = 16)\n",
    "\n",
    "    plt.tight_layout()\n",
    "    plt.ylabel('True label',fontsize = 18)\n",
    "    plt.xlabel('Predicted label',fontsize = 18)\n",
    "    #plt.close()\n",
    "    \n",
    "\n",
    "\n",
    "def plot_feature_importances(model, feature_names,feature_importances_name):\n",
    "    I = np.argsort(model.feature_importances_)[::-1]\n",
    "    I = I[0:60]\n",
    "    for i in I[0:30]:\n",
    "        print(feature_names[i], \"& %.3f\" % (model.feature_importances_[i]))\n",
    "    fig, ax = plt.subplots(figsize=(16, 5), tight_layout=True)\n",
    "    x_plot = np.arange(len(I))\n",
    "    plt.xticks(x_plot, [feature_names[i] for i in I], rotation='vertical')\n",
    "    ax.bar(x_plot, height=model.feature_importances_[I]);\n",
    "    #plt.close()"
   ]
  },
  {
   "cell_type": "markdown",
   "metadata": {},
   "source": [
    "### Pre-processing training data"
   ]
  },
  {
   "cell_type": "code",
   "execution_count": 7,
   "metadata": {},
   "outputs": [
    {
     "name": "stdout",
     "output_type": "stream",
     "text": [
      "72573 23972 1418\n"
     ]
    }
   ],
   "source": [
    "#splitting training set\n",
    "X_train_hierarchical, X_test_hierarchical = train_set[features], test_set[features]\n",
    "y_train_hierarchical, y_test_hierarchical = train_set['hierClass'], test_set['hierClass']\n",
    "y_train_original, y_test_original = train_set['classALeRCE'], test_set['classALeRCE']\n",
    "\n",
    "\n",
    "# separating training sets for sub-classes\n",
    "X_train_periodic = X_train_hierarchical.loc[y_train_hierarchical=='Periodic', :]\n",
    "y_train_periodic = y_train_original.loc[y_train_hierarchical=='Periodic']\n",
    "\n",
    "X_train_stochastic = X_train_hierarchical.loc[y_train_hierarchical=='Stochastic', :]\n",
    "y_train_stochastic = y_train_original.loc[y_train_hierarchical=='Stochastic']\n",
    "\n",
    "X_train_transient = X_train_hierarchical.loc[y_train_hierarchical=='Transient', :]\n",
    "y_train_transient = y_train_original.loc[y_train_hierarchical=='Transient']\n",
    "\n",
    "X_test_periodic = X_test_hierarchical\n",
    "X_test_stochastic = X_test_hierarchical\n",
    "X_test_transient = X_test_hierarchical\n",
    "\n",
    "print(len(y_train_periodic), len(y_train_stochastic), len(y_train_transient))"
   ]
  },
  {
   "cell_type": "markdown",
   "metadata": {},
   "source": [
    "  ## Balanced random forest\n",
    "  \n",
    "  ### First layer: separating Periodic, Stochastic and Transients:"
   ]
  },
  {
   "cell_type": "code",
   "execution_count": 8,
   "metadata": {},
   "outputs": [
    {
     "name": "stdout",
     "output_type": "stream",
     "text": [
      "['Periodic' 'Stochastic' 'Transient']\n",
      "Accuracy: 0.9886814276272307\n",
      "Balanced accuracy: 0.9878963203354996\n"
     ]
    }
   ],
   "source": [
    "#Training first layer of the RF model\n",
    "\n",
    "rf_model_hierarchical = RandomForestClassifier(\n",
    "            n_estimators=500,\n",
    "            max_features='auto',\n",
    "            max_depth=None,\n",
    "            n_jobs=-1,\n",
    "            bootstrap=True,\n",
    "            class_weight='balanced_subsample',\n",
    "            criterion='entropy',\n",
    "            min_samples_split=2,\n",
    "            min_samples_leaf=1)\n",
    "\n",
    "\n",
    "rf_model_hierarchical.fit(X_train_hierarchical, y_train_hierarchical)\n",
    "\n",
    "#testing first layer performance\n",
    "\n",
    "y_true, y_pred = y_test_hierarchical, rf_model_hierarchical.predict(X_test_hierarchical)\n",
    "y_pred_proba_hier = rf_model_hierarchical.predict_proba(X_test_hierarchical)\n",
    "\n",
    "classes_order_proba_hierarchical = rf_model_hierarchical.classes_\n",
    "print(classes_order_proba_hierarchical)\n",
    "\n",
    "\n",
    "print(\"Accuracy:\", metrics.accuracy_score(y_true, y_pred))\n",
    "print(\"Balanced accuracy:\", metrics.balanced_accuracy_score(y_true, y_pred))\n",
    "\n",
    "#Dumping trained model\n",
    "\n",
    "features_hierarchical = list(X_train_hierarchical)"
   ]
  },
  {
   "cell_type": "code",
   "execution_count": 9,
   "metadata": {},
   "outputs": [
    {
     "name": "stdout",
     "output_type": "stream",
     "text": [
      "[[17831   100    12]\n",
      " [  134  5752    27]\n",
      " [    0     1   351]]\n",
      "Normalized confusion matrix\n",
      "[[ 99.   1.   0.]\n",
      " [  2.  97.   0.]\n",
      " [  0.   0. 100.]]\n"
     ]
    },
    {
     "data": {
      "image/png": "[encoded data removed]",
      "text/plain": [
       "<Figure size 864x720 with 1 Axes>"
      ]
     },
     "metadata": {},
     "output_type": "display_data"
    }
   ],
   "source": [
    "#plotting confusion matrix\n",
    "cnf_matrix = metrics.confusion_matrix(y_true, y_pred, labels=classes_order_proba_hierarchical)\n",
    "print(cnf_matrix)\n",
    "plot_confusion_matrix(cnf_matrix, classes_order_proba_hierarchical)"
   ]
  },
  {
   "cell_type": "markdown",
   "metadata": {},
   "source": [
    "  ### Periodic layer"
   ]
  },
  {
   "cell_type": "code",
   "execution_count": 10,
   "metadata": {},
   "outputs": [
    {
     "name": "stdout",
     "output_type": "stream",
     "text": [
      "['CEP' 'DSCT' 'E' 'LPV' 'RRL']\n"
     ]
    }
   ],
   "source": [
    "#Training Periodic layer\n",
    "\n",
    "rf_model_periodic = RandomForestClassifier(\n",
    "            n_estimators=500,\n",
    "            max_features='auto',\n",
    "            max_depth=None,\n",
    "            n_jobs=-1,\n",
    "            class_weight='balanced_subsample',\n",
    "            bootstrap=True,\n",
    "            criterion='entropy',\n",
    "            min_samples_split=2,\n",
    "            min_samples_leaf=1)\n",
    "\n",
    "rf_model_periodic.fit(X_train_periodic, y_train_periodic)\n",
    "\n",
    "\n",
    "# Applying periodic model to the test data\n",
    "y_true_periodic, y_pred_periodic = y_test_original, rf_model_periodic.predict(X_test_periodic)\n",
    "y_pred_proba_periodic = rf_model_periodic.predict_proba(X_test_periodic)\n",
    "\n",
    "classes_order_proba_periodic = rf_model_periodic.classes_\n",
    "print(classes_order_proba_periodic)\n",
    "\n",
    "#Dumping trained model\n",
    "\n",
    "features_periodic = list(X_train_periodic)"
   ]
  },
  {
   "cell_type": "markdown",
   "metadata": {},
   "source": [
    "  ### Stochastic layer"
   ]
  },
  {
   "cell_type": "code",
   "execution_count": 11,
   "metadata": {},
   "outputs": [
    {
     "name": "stdout",
     "output_type": "stream",
     "text": [
      "['AGN' 'Blazar' 'CV/Nova' 'QSO']\n"
     ]
    }
   ],
   "source": [
    "#Training Stochastic layer\n",
    "\n",
    "rf_model_stochastic = RandomForestClassifier(\n",
    "            n_estimators=500,\n",
    "            max_features=0.2,#'auto',\n",
    "            max_depth=None,\n",
    "            n_jobs=-1,\n",
    "            bootstrap=True,\n",
    "            class_weight='balanced_subsample',\n",
    "            criterion='entropy',\n",
    "            min_samples_split=2,\n",
    "            min_samples_leaf=1)\n",
    "\n",
    "rf_model_stochastic.fit(X_train_stochastic, y_train_stochastic)\n",
    "\n",
    "\n",
    "# Applying stochastic model to the test data\n",
    "y_true_stochastic, y_pred_stochastic  = y_test_original, rf_model_stochastic.predict(X_test_stochastic)\n",
    "y_pred_proba_stochastic = rf_model_stochastic.predict_proba(X_test_stochastic)\n",
    "\n",
    "classes_order_proba_stochastic = rf_model_stochastic.classes_\n",
    "print(classes_order_proba_stochastic)\n",
    "\n",
    "#Dumping trained model\n",
    "\n",
    "features_stochastic = list(X_train_stochastic)"
   ]
  },
  {
   "cell_type": "markdown",
   "metadata": {},
   "source": [
    "  ### Transient layer"
   ]
  },
  {
   "cell_type": "code",
   "execution_count": 12,
   "metadata": {},
   "outputs": [
    {
     "name": "stdout",
     "output_type": "stream",
     "text": [
      "['SLSN' 'SNII' 'SNIa' 'SNIbc']\n"
     ]
    }
   ],
   "source": [
    "#Training Transient layer\n",
    "\n",
    "rf_model_transient = RandomForestClassifier(\n",
    "            n_estimators=500,\n",
    "            max_features='auto',\n",
    "            max_depth=None,\n",
    "            n_jobs=-1,\n",
    "            bootstrap=True,\n",
    "            class_weight='balanced_subsample',\n",
    "            criterion='entropy',\n",
    "            min_samples_split=2,\n",
    "            min_samples_leaf=1)\n",
    "\n",
    "rf_model_transient.fit(X_train_transient, y_train_transient)\n",
    "\n",
    "# Applying transient model to the test data\n",
    "y_true_transient, y_pred_transient  = y_test_original, rf_model_transient.predict(X_test_transient)\n",
    "y_pred_proba_transient = rf_model_transient.predict_proba(X_test_transient)\n",
    "\n",
    "classes_order_proba_transient = rf_model_transient.classes_\n",
    "print(classes_order_proba_transient)\n",
    "\n",
    "#Dumping trained model\n",
    "\n",
    "features_transient = list(X_train_transient)\n"
   ]
  },
  {
   "cell_type": "markdown",
   "metadata": {},
   "source": [
    "## Putting all together"
   ]
  },
  {
   "cell_type": "code",
   "execution_count": 13,
   "metadata": {},
   "outputs": [
    {
     "name": "stdout",
     "output_type": "stream",
     "text": [
      "[1. 1. 1. ... 1. 1. 1.] 1.0 6.851666802337852e-17\n",
      "['AGN' 'Blazar' 'CV/Nova' 'QSO' 'SLSN' 'SNII' 'SNIa' 'SNIbc' 'CEP' 'DSCT'\n",
      " 'E' 'LPV' 'RRL']\n"
     ]
    }
   ],
   "source": [
    "# generating final probabilities\n",
    "\n",
    "#multiplying probabilities of the hierarchical layer with the other layers\n",
    "prob_periodic = y_pred_proba_periodic*y_pred_proba_hier[:,np.where(classes_order_proba_hierarchical=='Periodic')[0][0]].T[:, np.newaxis]\n",
    "prob_stochastic = y_pred_proba_stochastic*y_pred_proba_hier[:,np.where(classes_order_proba_hierarchical=='Stochastic')[0][0]].T[:, np.newaxis]\n",
    "prob_trainsient = y_pred_proba_transient*y_pred_proba_hier[:,np.where(classes_order_proba_hierarchical=='Transient')[0][0]].T[:, np.newaxis]\n",
    "\n",
    "#obtaining final probabilities matrix\n",
    "prob_final = np.concatenate((prob_stochastic,prob_trainsient,prob_periodic),axis=1)\n",
    "\n",
    "print(np.sum(prob_final,axis=1),np.mean(np.sum(prob_final,axis=1)),np.std(np.sum(prob_final,axis=1)))\n",
    "\n",
    "#getting the ordered name of classes for prob_final\n",
    "prob_final_class_names = np.concatenate((classes_order_proba_stochastic,classes_order_proba_transient,classes_order_proba_periodic))\n",
    "print(prob_final_class_names)\n",
    "\n",
    "\n",
    "class_final_proba = np.amax(prob_final,axis=1)\n",
    "class_final_index = np.argmax(prob_final,axis=1)\n",
    "class_final_name = [prob_final_class_names[x] for x in class_final_index]\n",
    "\n"
   ]
  },
  {
   "cell_type": "code",
   "execution_count": 14,
   "metadata": {
    "scrolled": false
   },
   "outputs": [
    {
     "name": "stdout",
     "output_type": "stream",
     "text": [
      "[[ 182   59   16    4    0    0    0    1    0    0    0    0    0]\n",
      " [   6   13    0    0    0    0    0    0    0    0    0    0    0]\n",
      " [   8   13   36    9    0    1    0    0    0    0    0    0    0]\n",
      " [   0    0    1    3    0    0    0    0    0    0    0    0    0]\n",
      " [   0    0    0    1 3988  334  218    4    3    4    1    2    0]\n",
      " [   0    0    0    0   90  742   56    2   11    4    0    1    1]\n",
      " [   0    0    0    0   47   38  163    5    7    0    0    0    4]\n",
      " [   7    5    1    0    0    0    2  127    3    5    8   24    5]\n",
      " [   1    1    0    0    2    7    4    0 2844    1    1    0   34]\n",
      " [   0    0    0    0   22    0   14   47    8 6838  542  268  402]\n",
      " [   0    0    0    0    0    0    0    1    1   12  132    3    4]\n",
      " [   1    1    0    0   30    0    7   15    3  425  236 5800  110]\n",
      " [   0    0    0    0    0    0    0    0    5    6    1   13  101]]\n",
      "Normalized confusion matrix\n",
      "[[69. 23.  6.  2.  0.  0.  0.  0.  0.  0.  0.  0.  0.]\n",
      " [32. 68.  0.  0.  0.  0.  0.  0.  0.  0.  0.  0.  0.]\n",
      " [12. 19. 54. 13.  0.  1.  0.  0.  0.  0.  0.  0.  0.]\n",
      " [ 0.  0. 25. 75.  0.  0.  0.  0.  0.  0.  0.  0.  0.]\n",
      " [ 0.  0.  0.  0. 88.  7.  5.  0.  0.  0.  0.  0.  0.]\n",
      " [ 0.  0.  0.  0. 10. 82.  6.  0.  1.  0.  0.  0.  0.]\n",
      " [ 0.  0.  0.  0. 18. 14. 62.  2.  3.  0.  0.  0.  2.]\n",
      " [ 4.  3.  1.  0.  0.  0.  1. 68.  2.  3.  4. 13.  3.]\n",
      " [ 0.  0.  0.  0.  0.  0.  0.  0. 98.  0.  0.  0.  1.]\n",
      " [ 0.  0.  0.  0.  0.  0.  0.  1.  0. 84.  7.  3.  5.]\n",
      " [ 0.  0.  0.  0.  0.  0.  0.  1.  1.  8. 86.  2.  3.]\n",
      " [ 0.  0.  0.  0.  0.  0.  0.  0.  0.  6.  4. 88.  2.]\n",
      " [ 0.  0.  0.  0.  0.  0.  0.  0.  4.  5.  1. 10. 80.]]\n",
      "Accuracy: 0.87\n",
      "Balanced accuracy: 0.77\n",
      "macro precision:  0.59\n",
      "macro recall:  0.77\n",
      "macro F1:  0.61\n",
      "              precision    recall  f1-score   support\n",
      "\n",
      "         AGN       0.66      0.82      0.73       907\n",
      "      Blazar       0.35      0.62      0.45       264\n",
      "         CEP       0.15      0.80      0.26       126\n",
      "     CV/Nova       0.63      0.68      0.65       187\n",
      "        DSCT       0.14      0.86      0.25       153\n",
      "           E       0.94      0.84      0.89      8141\n",
      "         LPV       0.99      0.98      0.98      2895\n",
      "         QSO       0.95      0.88      0.91      4555\n",
      "         RRL       0.95      0.88      0.91      6628\n",
      "        SLSN       0.18      0.75      0.29         4\n",
      "        SNII       0.67      0.54      0.60        67\n",
      "        SNIa       0.89      0.69      0.78       262\n",
      "       SNIbc       0.14      0.68      0.23        19\n",
      "\n",
      "    accuracy                           0.87     24208\n",
      "   macro avg       0.59      0.77      0.61     24208\n",
      "weighted avg       0.92      0.87      0.89     24208\n",
      "\n"
     ]
    },
    {
     "data": {
      "image/png": "[encoded data removed]",
      "text/plain": [
       "<Figure size 864x720 with 1 Axes>"
      ]
     },
     "metadata": {},
     "output_type": "display_data"
    }
   ],
   "source": [
    "# generating confusion matrix for multilabels\n",
    "\n",
    "label_order = ['SNIa', 'SNIbc', 'SNII', 'SLSN','QSO','AGN', 'Blazar', 'YSO','CV/Nova',\n",
    "               'LPV', 'E', 'DSCT', 'RRL', 'CEP']\n",
    "label_order.remove(outlier)\n",
    "\n",
    "cnf_matrix = metrics.confusion_matrix(y_test_original, class_final_name,labels=label_order)\n",
    "print(cnf_matrix)\n",
    "plot_confusion_matrix(cnf_matrix,label_order)\n",
    "\n",
    "print(\"Accuracy:\", \"%0.2f\" % metrics.accuracy_score(y_test_original, class_final_name))\n",
    "print(\"Balanced accuracy:\",\"%0.2f\" %  metrics.balanced_accuracy_score(y_test_original, class_final_name))\n",
    "\n",
    "print(\"macro precision: \",\"%0.2f\" %  metrics.precision_score(y_test_original, class_final_name, average='macro'))\n",
    "print(\"macro recall: \",\"%0.2f\" %  metrics.recall_score(y_test_original, class_final_name, average='macro'))\n",
    "print(\"macro F1: \",\"%0.2f\" %  metrics.f1_score(y_test_original, class_final_name, average='macro'))\n",
    "\n",
    "print(metrics.classification_report(y_test_original, class_final_name, digits=2))"
   ]
  },
  {
   "cell_type": "markdown",
   "metadata": {},
   "source": [
    "# Predicting on unlabeled data"
   ]
  },
  {
   "cell_type": "code",
   "execution_count": 15,
   "metadata": {},
   "outputs": [],
   "source": [
    "unlabeled_dataset = unlabeled_dataset.drop(['Periodic', 'Stochastic', 'Transient', 'Unnamed: 0',], axis=1)\n",
    "unlabeled_columns = list(unlabeled_dataset)\n",
    "unlabeled_dataset = pd.concat([unlabeled_dataset, train_set.reset_index()[unlabeled_columns], test_set.reset_index()[unlabeled_columns]])"
   ]
  },
  {
   "cell_type": "code",
   "execution_count": 16,
   "metadata": {},
   "outputs": [],
   "source": [
    "X = unlabeled_dataset.set_index('oid')[features].astype('float32').copy()\n",
    "X = X.replace([np.inf, -np.inf], np.nan)\n",
    "X = X.fillna(-999)"
   ]
  },
  {
   "cell_type": "code",
   "execution_count": 17,
   "metadata": {},
   "outputs": [
    {
     "name": "stdout",
     "output_type": "stream",
     "text": [
      "[1. 1. 1. ... 1. 1. 1.] 1.0 7.450689151903706e-17\n",
      "['AGN' 'Blazar' 'CV/Nova' 'QSO' 'SLSN' 'SNII' 'SNIa' 'SNIbc' 'CEP' 'DSCT'\n",
      " 'E' 'LPV' 'RRL']\n"
     ]
    }
   ],
   "source": [
    "#predicting classes of unlabeled data\n",
    "\n",
    "test_Y_hierarchical = rf_model_hierarchical.predict(X)\n",
    "test_Y_proba_hierarchical = rf_model_hierarchical.predict_proba(X)\n",
    "\n",
    "test_Y_periodic = rf_model_periodic.predict(X)\n",
    "test_Y_proba_periodic = rf_model_periodic.predict_proba(X)\n",
    "\n",
    "test_Y_stochastic = rf_model_stochastic.predict(X)\n",
    "test_Y_proba_stochastic = rf_model_stochastic.predict_proba(X)\n",
    "\n",
    "test_Y_transient = rf_model_transient.predict(X)\n",
    "test_Y_proba_transient = rf_model_transient.predict_proba(X)\n",
    "\n",
    "\n",
    "#multiplying probabilities\n",
    "prob_periodic_ul = test_Y_proba_periodic*test_Y_proba_hierarchical[:,np.where(classes_order_proba_hierarchical=='Periodic')[0][0]].T[:, np.newaxis]\n",
    "prob_stochastic_ul = test_Y_proba_stochastic*test_Y_proba_hierarchical[:,np.where(classes_order_proba_hierarchical=='Stochastic')[0][0]].T[:, np.newaxis]\n",
    "prob_trainsient_ul = test_Y_proba_transient*test_Y_proba_hierarchical[:,np.where(classes_order_proba_hierarchical=='Transient')[0][0]].T[:, np.newaxis]\n",
    "\n",
    "#obtaining final probabilities matrix\n",
    "prob_final_ul = np.concatenate((prob_stochastic_ul,prob_trainsient_ul,prob_periodic_ul),axis=1)\n",
    "\n",
    "print(np.sum(prob_final_ul,axis=1),np.mean(np.sum(prob_final_ul,axis=1)),np.std(np.sum(prob_final_ul,axis=1)))\n",
    "\n",
    "#getting the ordered name of classes for prob_final\n",
    "prob_final_class_names_ul = np.concatenate((classes_order_proba_stochastic,classes_order_proba_transient,classes_order_proba_periodic))\n",
    "print(prob_final_class_names)\n",
    "\n",
    "\n",
    "class_final_proba_ul = np.amax(prob_final_ul,axis=1)\n",
    "class_final_index_ul = np.argmax(prob_final_ul,axis=1)\n",
    "class_final_name_ul = [prob_final_class_names_ul[x] for x in class_final_index_ul]"
   ]
  },
  {
   "cell_type": "code",
   "execution_count": 18,
   "metadata": {},
   "outputs": [
    {
     "data": {
      "text/plain": [
       "(559656, 13)"
      ]
     },
     "execution_count": 18,
     "metadata": {},
     "output_type": "execute_result"
    }
   ],
   "source": [
    "prob_final_ul.shape"
   ]
  },
  {
   "cell_type": "code",
   "execution_count": 19,
   "metadata": {},
   "outputs": [
    {
     "data": {
      "text/plain": [
       "(559656, 205)"
      ]
     },
     "execution_count": 19,
     "metadata": {},
     "output_type": "execute_result"
    }
   ],
   "source": [
    "unlabeled_dataset.shape"
   ]
  },
  {
   "cell_type": "code",
   "execution_count": 20,
   "metadata": {},
   "outputs": [
    {
     "name": "stdout",
     "output_type": "stream",
     "text": [
      "(559656, 205)\n",
      "559656\n",
      "559656\n"
     ]
    }
   ],
   "source": [
    "#Writing results in the output\n",
    "print(unlabeled_dataset.shape)\n",
    "print(len(class_final_name_ul))\n",
    "print(len(prob_final_ul))\n",
    "\n",
    "\n",
    "unlabeled_dataset['predicted_class'] = class_final_name_ul\n",
    "unlabeled_dataset['predicted_class_proba'] = class_final_proba_ul\n",
    "\n",
    "probs_header = prob_final_class_names_ul + '_prob'\n",
    "\n",
    "prob_pd_ul = pd.DataFrame(prob_final_ul,columns=probs_header,index=unlabeled_dataset.oid)\n",
    "\n",
    "prob_h_pd_ul = pd.DataFrame(test_Y_proba_hierarchical, columns=['prob_Periodic','prob_Stochastic','prob_Transient'],index=unlabeled_dataset.oid)"
   ]
  },
  {
   "cell_type": "code",
   "execution_count": 21,
   "metadata": {},
   "outputs": [],
   "source": [
    "unlabeled_dataset_preds = pd.concat([unlabeled_dataset.set_index('oid'), prob_pd_ul, prob_h_pd_ul], axis=1)"
   ]
  },
  {
   "cell_type": "code",
   "execution_count": 22,
   "metadata": {},
   "outputs": [],
   "source": [
    "unlabeled_dataset_preds.replace(-999, np.nan, inplace=True)"
   ]
  },
  {
   "cell_type": "code",
   "execution_count": 23,
   "metadata": {},
   "outputs": [],
   "source": [
    "unlabeled_dataset_preds['hierClass'] = test_Y_hierarchical"
   ]
  },
  {
   "cell_type": "code",
   "execution_count": 24,
   "metadata": {},
   "outputs": [],
   "source": [
    "unlabeled_dataset_preds = unlabeled_dataset_preds[(unlabeled_dataset_preds['n_det_1']>=6) & (unlabeled_dataset_preds['n_det_2']>=6)]\n",
    "unlabeled_dataset_preds = unlabeled_dataset_preds[((unlabeled_dataset_preds.hierClass=='Transient') & (unlabeled_dataset_preds.flag_reference_change==False) & (unlabeled_dataset_preds.flag_diffpos==True)) | ((unlabeled_dataset_preds.hierClass=='Periodic') & (unlabeled_dataset_preds.flag_corrected_g==True) & (unlabeled_dataset_preds.flag_corrected_r==True)& (unlabeled_dataset_preds.flag_ndubious_g<1) & (unlabeled_dataset_preds.flag_ndubious_r<1)) | ((unlabeled_dataset_preds.hierClass=='Stochastic') & (unlabeled_dataset_preds.flag_corrected_g==True) & (unlabeled_dataset_preds.flag_corrected_r==True)& (unlabeled_dataset_preds.flag_ndubious_g<1) & (unlabeled_dataset_preds.flag_ndubious_r<1))]"
   ]
  },
  {
   "cell_type": "code",
   "execution_count": 25,
   "metadata": {},
   "outputs": [
    {
     "data": {
      "text/plain": [
       "(394041, 223)"
      ]
     },
     "execution_count": 25,
     "metadata": {},
     "output_type": "execute_result"
    }
   ],
   "source": [
    "unlabeled_dataset_preds.shape"
   ]
  },
  {
   "cell_type": "code",
   "execution_count": 26,
   "metadata": {},
   "outputs": [],
   "source": [
    "unlabeled_dataset_preds.to_pickle('data/kd_train_data_without_{}.pkl'.format(outlier))\n",
    "\n"
   ]
  },
  {
   "cell_type": "code",
   "execution_count": 27,
   "metadata": {},
   "outputs": [
    {
     "data": {
      "text/html": [
       "<div>\n",
       "<style scoped>\n",
       "    .dataframe tbody tr th:only-of-type {\n",
       "        vertical-align: middle;\n",
       "    }\n",
       "\n",
       "    .dataframe tbody tr th {\n",
       "        vertical-align: top;\n",
       "    }\n",
       "\n",
       "    .dataframe thead th {\n",
       "        text-align: right;\n",
       "    }\n",
       "</style>\n",
       "<table border=\"1\" class=\"dataframe\">\n",
       "  <thead>\n",
       "    <tr style=\"text-align: right;\">\n",
       "      <th></th>\n",
       "      <th>Amplitude_1</th>\n",
       "      <th>Amplitude_2</th>\n",
       "      <th>AndersonDarling_1</th>\n",
       "      <th>AndersonDarling_2</th>\n",
       "      <th>Autocor_length_1</th>\n",
       "      <th>Autocor_length_2</th>\n",
       "      <th>Beyond1Std_1</th>\n",
       "      <th>Beyond1Std_2</th>\n",
       "      <th>Con_1</th>\n",
       "      <th>Con_2</th>\n",
       "      <th>...</th>\n",
       "      <th>SNIbc_prob</th>\n",
       "      <th>CEP_prob</th>\n",
       "      <th>DSCT_prob</th>\n",
       "      <th>E_prob</th>\n",
       "      <th>LPV_prob</th>\n",
       "      <th>RRL_prob</th>\n",
       "      <th>prob_Periodic</th>\n",
       "      <th>prob_Stochastic</th>\n",
       "      <th>prob_Transient</th>\n",
       "      <th>hierClass</th>\n",
       "    </tr>\n",
       "    <tr>\n",
       "      <th>oid</th>\n",
       "      <th></th>\n",
       "      <th></th>\n",
       "      <th></th>\n",
       "      <th></th>\n",
       "      <th></th>\n",
       "      <th></th>\n",
       "      <th></th>\n",
       "      <th></th>\n",
       "      <th></th>\n",
       "      <th></th>\n",
       "      <th></th>\n",
       "      <th></th>\n",
       "      <th></th>\n",
       "      <th></th>\n",
       "      <th></th>\n",
       "      <th></th>\n",
       "      <th></th>\n",
       "      <th></th>\n",
       "      <th></th>\n",
       "      <th></th>\n",
       "      <th></th>\n",
       "    </tr>\n",
       "  </thead>\n",
       "  <tbody>\n",
       "    <tr>\n",
       "      <th>ZTF17aaaafbp</th>\n",
       "      <td>0.145461</td>\n",
       "      <td>0.067991</td>\n",
       "      <td>0.990215</td>\n",
       "      <td>0.342668</td>\n",
       "      <td>1.0</td>\n",
       "      <td>1.0</td>\n",
       "      <td>0.294118</td>\n",
       "      <td>0.285714</td>\n",
       "      <td>0.0</td>\n",
       "      <td>0.0</td>\n",
       "      <td>...</td>\n",
       "      <td>0.003432</td>\n",
       "      <td>0.039864</td>\n",
       "      <td>0.090600</td>\n",
       "      <td>0.684936</td>\n",
       "      <td>0.003624</td>\n",
       "      <td>0.086976</td>\n",
       "      <td>0.906</td>\n",
       "      <td>0.082</td>\n",
       "      <td>0.012</td>\n",
       "      <td>Periodic</td>\n",
       "    </tr>\n",
       "    <tr>\n",
       "      <th>ZTF17aaaappe</th>\n",
       "      <td>0.171415</td>\n",
       "      <td>0.201020</td>\n",
       "      <td>1.000000</td>\n",
       "      <td>1.000000</td>\n",
       "      <td>1.0</td>\n",
       "      <td>1.0</td>\n",
       "      <td>0.200000</td>\n",
       "      <td>0.457627</td>\n",
       "      <td>0.0</td>\n",
       "      <td>0.0</td>\n",
       "      <td>...</td>\n",
       "      <td>0.001176</td>\n",
       "      <td>0.057188</td>\n",
       "      <td>0.084796</td>\n",
       "      <td>0.642872</td>\n",
       "      <td>0.000000</td>\n",
       "      <td>0.201144</td>\n",
       "      <td>0.986</td>\n",
       "      <td>0.008</td>\n",
       "      <td>0.006</td>\n",
       "      <td>Periodic</td>\n",
       "    </tr>\n",
       "    <tr>\n",
       "      <th>ZTF17aaabbkl</th>\n",
       "      <td>0.277655</td>\n",
       "      <td>0.176079</td>\n",
       "      <td>0.880929</td>\n",
       "      <td>0.825180</td>\n",
       "      <td>1.0</td>\n",
       "      <td>1.0</td>\n",
       "      <td>0.380952</td>\n",
       "      <td>0.347826</td>\n",
       "      <td>0.0</td>\n",
       "      <td>0.0</td>\n",
       "      <td>...</td>\n",
       "      <td>0.002256</td>\n",
       "      <td>0.289408</td>\n",
       "      <td>0.055216</td>\n",
       "      <td>0.466480</td>\n",
       "      <td>0.017136</td>\n",
       "      <td>0.123760</td>\n",
       "      <td>0.952</td>\n",
       "      <td>0.040</td>\n",
       "      <td>0.008</td>\n",
       "      <td>Periodic</td>\n",
       "    </tr>\n",
       "    <tr>\n",
       "      <th>ZTF17aaabcqo</th>\n",
       "      <td>0.236008</td>\n",
       "      <td>0.175954</td>\n",
       "      <td>1.000000</td>\n",
       "      <td>1.000000</td>\n",
       "      <td>3.0</td>\n",
       "      <td>9.0</td>\n",
       "      <td>0.350000</td>\n",
       "      <td>0.489796</td>\n",
       "      <td>0.0</td>\n",
       "      <td>0.0</td>\n",
       "      <td>...</td>\n",
       "      <td>0.008364</td>\n",
       "      <td>0.199076</td>\n",
       "      <td>0.045648</td>\n",
       "      <td>0.213024</td>\n",
       "      <td>0.102708</td>\n",
       "      <td>0.073544</td>\n",
       "      <td>0.634</td>\n",
       "      <td>0.332</td>\n",
       "      <td>0.034</td>\n",
       "      <td>Periodic</td>\n",
       "    </tr>\n",
       "    <tr>\n",
       "      <th>ZTF17aaabeke</th>\n",
       "      <td>0.425834</td>\n",
       "      <td>0.416041</td>\n",
       "      <td>1.000000</td>\n",
       "      <td>1.000000</td>\n",
       "      <td>1.0</td>\n",
       "      <td>1.0</td>\n",
       "      <td>0.381356</td>\n",
       "      <td>0.338843</td>\n",
       "      <td>0.0</td>\n",
       "      <td>0.0</td>\n",
       "      <td>...</td>\n",
       "      <td>0.000000</td>\n",
       "      <td>0.086000</td>\n",
       "      <td>0.044000</td>\n",
       "      <td>0.802000</td>\n",
       "      <td>0.004000</td>\n",
       "      <td>0.064000</td>\n",
       "      <td>1.000</td>\n",
       "      <td>0.000</td>\n",
       "      <td>0.000</td>\n",
       "      <td>Periodic</td>\n",
       "    </tr>\n",
       "  </tbody>\n",
       "</table>\n",
       "<p>5 rows × 223 columns</p>\n",
       "</div>"
      ],
      "text/plain": [
       "              Amplitude_1  Amplitude_2  AndersonDarling_1  AndersonDarling_2  \\\n",
       "oid                                                                            \n",
       "ZTF17aaaafbp     0.145461     0.067991           0.990215           0.342668   \n",
       "ZTF17aaaappe     0.171415     0.201020           1.000000           1.000000   \n",
       "ZTF17aaabbkl     0.277655     0.176079           0.880929           0.825180   \n",
       "ZTF17aaabcqo     0.236008     0.175954           1.000000           1.000000   \n",
       "ZTF17aaabeke     0.425834     0.416041           1.000000           1.000000   \n",
       "\n",
       "              Autocor_length_1  Autocor_length_2  Beyond1Std_1  Beyond1Std_2  \\\n",
       "oid                                                                            \n",
       "ZTF17aaaafbp               1.0               1.0      0.294118      0.285714   \n",
       "ZTF17aaaappe               1.0               1.0      0.200000      0.457627   \n",
       "ZTF17aaabbkl               1.0               1.0      0.380952      0.347826   \n",
       "ZTF17aaabcqo               3.0               9.0      0.350000      0.489796   \n",
       "ZTF17aaabeke               1.0               1.0      0.381356      0.338843   \n",
       "\n",
       "              Con_1  Con_2  ...  SNIbc_prob  CEP_prob  DSCT_prob    E_prob  \\\n",
       "oid                         ...                                              \n",
       "ZTF17aaaafbp    0.0    0.0  ...    0.003432  0.039864   0.090600  0.684936   \n",
       "ZTF17aaaappe    0.0    0.0  ...    0.001176  0.057188   0.084796  0.642872   \n",
       "ZTF17aaabbkl    0.0    0.0  ...    0.002256  0.289408   0.055216  0.466480   \n",
       "ZTF17aaabcqo    0.0    0.0  ...    0.008364  0.199076   0.045648  0.213024   \n",
       "ZTF17aaabeke    0.0    0.0  ...    0.000000  0.086000   0.044000  0.802000   \n",
       "\n",
       "              LPV_prob  RRL_prob  prob_Periodic  prob_Stochastic  \\\n",
       "oid                                                                \n",
       "ZTF17aaaafbp  0.003624  0.086976          0.906            0.082   \n",
       "ZTF17aaaappe  0.000000  0.201144          0.986            0.008   \n",
       "ZTF17aaabbkl  0.017136  0.123760          0.952            0.040   \n",
       "ZTF17aaabcqo  0.102708  0.073544          0.634            0.332   \n",
       "ZTF17aaabeke  0.004000  0.064000          1.000            0.000   \n",
       "\n",
       "              prob_Transient  hierClass  \n",
       "oid                                      \n",
       "ZTF17aaaafbp           0.012   Periodic  \n",
       "ZTF17aaaappe           0.006   Periodic  \n",
       "ZTF17aaabbkl           0.008   Periodic  \n",
       "ZTF17aaabcqo           0.034   Periodic  \n",
       "ZTF17aaabeke           0.000   Periodic  \n",
       "\n",
       "[5 rows x 223 columns]"
      ]
     },
     "execution_count": 27,
     "metadata": {},
     "output_type": "execute_result"
    }
   ],
   "source": [
    "unlabeled_dataset_preds.head()"
   ]
  },
  {
   "cell_type": "code",
   "execution_count": null,
   "metadata": {},
   "outputs": [],
   "source": []
  }
 ],
 "metadata": {
  "kernelspec": {
   "display_name": "Python 3",
   "language": "python",
   "name": "python3"
  },
  "language_info": {
   "codemirror_mode": {
    "name": "ipython",
    "version": 3
   },
   "file_extension": ".py",
   "mimetype": "text/x-python",
   "name": "python",
   "nbconvert_exporter": "python",
   "pygments_lexer": "ipython3",
   "version": "3.6.7"
  }
 },
 "nbformat": 4,
 "nbformat_minor": 2
}
