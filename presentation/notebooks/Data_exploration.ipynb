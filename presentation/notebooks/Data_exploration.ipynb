{
 "cells": [
  {
   "cell_type": "code",
   "execution_count": 1,
   "id": "alternate-anthropology",
   "metadata": {},
   "outputs": [],
   "source": [
    "import numpy as np\n",
    "import pandas as pd\n",
    "import matplotlib.pyplot as plt"
   ]
  },
  {
   "cell_type": "code",
   "execution_count": 2,
   "id": "found-ability",
   "metadata": {},
   "outputs": [
    {
     "data": {
      "text/plain": [
       "(116351, 204)"
      ]
     },
     "execution_count": 2,
     "metadata": {},
     "output_type": "execute_result"
    }
   ],
   "source": [
    "train = pd.read_pickle('./data/train_data_filtered.pkl')\n",
    "test = pd.read_pickle('./data/test_data_filtered.pkl')\n",
    "data = pd.concat((train, test))\n",
    "data.shape"
   ]
  },
  {
   "cell_type": "code",
   "execution_count": 3,
   "id": "sweet-ranking",
   "metadata": {},
   "outputs": [
    {
     "data": {
      "image/png": "[encoded data removed]",
      "text/plain": [
       "<Figure size 864x432 with 1 Axes>"
      ]
     },
     "metadata": {
      "needs_background": "light"
     },
     "output_type": "display_data"
    }
   ],
   "source": [
    "classes, counts = np.unique(data.classALeRCE, return_counts=True)\n",
    "\n",
    "plt.figure(figsize=(12,6))\n",
    "plt.grid()\n",
    "plt.bar(classes, counts, color='purple')\n",
    "plt.xticks(rotation=45)\n",
    "plt.show()"
   ]
  },
  {
   "cell_type": "code",
   "execution_count": 9,
   "id": "intensive-housing",
   "metadata": {},
   "outputs": [
    {
     "name": "stdout",
     "output_type": "stream",
     "text": [
      "##################\n",
      "Outlier: SLSN\n",
      "Train size: 2376\n",
      "Test size: 652\n",
      "Total outliers: 81\n",
      "Proportion: 0.12\n",
      "##################\n",
      "Outlier: SNII\n",
      "Train size: 1905\n",
      "Test size: 1123\n",
      "Total outliers: 667\n",
      "Proportion: 0.59\n",
      "##################\n",
      "Outlier: SNIa\n",
      "Train size: 720\n",
      "Test size: 2308\n",
      "Total outliers: 2136\n",
      "Proportion: 0.93\n",
      "##################\n",
      "Outlier: SNIbc\n",
      "Train size: 2322\n",
      "Test size: 706\n",
      "Total outliers: 144\n",
      "Proportion: 0.20\n",
      "##################\n",
      "Outlier: AGN\n",
      "Train size: 27754\n",
      "Test size: 11273\n",
      "Total outliers: 4266\n",
      "Proportion: 0.38\n",
      "##################\n",
      "Outlier: Blazar\n",
      "Train size: 30178\n",
      "Test size: 8849\n",
      "Total outliers: 1234\n",
      "Proportion: 0.14\n",
      "##################\n",
      "Outlier: CV/Nova\n",
      "Train size: 30620\n",
      "Test size: 8407\n",
      "Total outliers: 678\n",
      "Proportion: 0.08\n",
      "##################\n",
      "Outlier: QSO\n",
      "Train size: 6269\n",
      "Test size: 32758\n",
      "Total outliers: 31210\n",
      "Proportion: 0.95\n",
      "##################\n",
      "Outlier: YSO\n",
      "Train size: 29863\n",
      "Test size: 9164\n",
      "Total outliers: 1639\n",
      "Proportion: 0.18\n",
      "##################\n",
      "Outlier: CEP\n",
      "Train size: 59307\n",
      "Test size: 14989\n",
      "Total outliers: 316\n",
      "Proportion: 0.02\n",
      "##################\n",
      "Outlier: DSCT\n",
      "Train size: 59190\n",
      "Test size: 15106\n",
      "Total outliers: 456\n",
      "Proportion: 0.03\n",
      "##################\n",
      "Outlier: E\n",
      "Train size: 39135\n",
      "Test size: 35161\n",
      "Total outliers: 25414\n",
      "Proportion: 0.72\n",
      "##################\n",
      "Outlier: RRL\n",
      "Train size: 38453\n",
      "Test size: 35843\n",
      "Total outliers: 26393\n",
      "Proportion: 0.74\n",
      "##################\n",
      "Outlier: LPV\n",
      "Train size: 43011\n",
      "Test size: 31285\n",
      "Total outliers: 20655\n",
      "Proportion: 0.66\n"
     ]
    }
   ],
   "source": [
    "hierClasses = ['Transient', 'Stochastic', 'Periodic']\n",
    "\n",
    "for hierClass in hierClasses:\n",
    "    if hierClass=='Transient':\n",
    "        possible_outliers = ['SLSN',\n",
    "                             'SNII',\n",
    "                             'SNIa',\n",
    "                             'SNIbc']\n",
    "    elif hierClass == 'Stochastic':\n",
    "        possible_outliers = [ 'AGN' ,\n",
    "                             'Blazar',\n",
    "                             'CV/Nova',\n",
    "                             'QSO',\n",
    "                             'YSO']\n",
    "    elif hierClass == 'Periodic':\n",
    "        possible_outliers = ['CEP',\n",
    "                             'DSCT',\n",
    "                             'E',\n",
    "                             'RRL',\n",
    "                             'LPV']\n",
    "    for outlier in possible_outliers:\n",
    "        train = pd.read_pickle('./data/train_data_filtered.pkl')\n",
    "        test = pd.read_pickle('./data/test_data_filtered.pkl')\n",
    "        print('##################')\n",
    "        print('Outlier: {}'.format(outlier))\n",
    "        \n",
    "        train = train[train.hierClass==hierClass]\n",
    "        test = test[test.hierClass==hierClass]\n",
    "        \n",
    "        #Remove the outlier from training set and append it to the test set.\n",
    "        test = pd.concat([test, train[train.classALeRCE==outlier]], sort=False)\n",
    "        print('Train size: {}'.format(train[train.classALeRCE!=outlier].shape[0]))\n",
    "        print('Test size: {}'.format(test.shape[0]))\n",
    "        print('Total outliers: {}'.format(test[test.classALeRCE==outlier].shape[0]))\n",
    "        print('Proportion: {:.2f}'.format(test[test.classALeRCE==outlier].shape[0]/test.shape[0]))"
   ]
  },
  {
   "cell_type": "code",
   "execution_count": null,
   "id": "intellectual-certificate",
   "metadata": {},
   "outputs": [],
   "source": []
  }
 ],
 "metadata": {
  "kernelspec": {
   "display_name": "Python 3",
   "language": "python",
   "name": "python3"
  },
  "language_info": {
   "codemirror_mode": {
    "name": "ipython",
    "version": 3
   },
   "file_extension": ".py",
   "mimetype": "text/x-python",
   "name": "python",
   "nbconvert_exporter": "python",
   "pygments_lexer": "ipython3",
   "version": "3.6.13"
  }
 },
 "nbformat": 4,
 "nbformat_minor": 5
}
